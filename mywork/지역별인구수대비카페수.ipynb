{
 "cells": [
  {
   "cell_type": "markdown",
   "metadata": {},
   "source": [
    "# 지역별 인구 대비 카페수 구하기\n",
    "#### korea_mid_clfc_per_pop_2016.csv\n",
    "---"
   ]
  },
  {
   "cell_type": "markdown",
   "metadata": {},
   "source": [
    "### 데이터 불러오기\n",
    "- df16~19 : 지역별 년도의 카페수\n",
    "- pop16~19: 지역별 년도의 인구수"
   ]
  },
  {
   "cell_type": "code",
   "execution_count": 1,
   "metadata": {},
   "outputs": [],
   "source": [
    "import pandas as pd\n",
    "import numpy as np"
   ]
  },
  {
   "cell_type": "code",
   "execution_count": 2,
   "metadata": {},
   "outputs": [],
   "source": [
    "# # 데이터 불러와서 그룹화 처리 자동화하기\n",
    "\n",
    "# # 는 컴퓨터가 이해하는방식 때문에 다음 반복문 사용불가.\n",
    "# # a = \"b\"\n",
    "# # pd[a]  => pd['b']\n",
    "# # pd['a']\n",
    "\n",
    "# types = ['df', 'cnt']\n",
    "# nums = [ i for i in range(16,20)]\n",
    "# print(nums)\n",
    "\n",
    "# list=[]\n",
    "# for i in types:\n",
    "#     for j in nums:\n",
    "#         k = i + str(j)\n",
    "#         list.append(k)\n",
    "# dfs = list[:4]\n",
    "# print(dfs)\n",
    "# cnts = list[4:]"
   ]
  },
  {
   "cell_type": "code",
   "execution_count": 3,
   "metadata": {},
   "outputs": [],
   "source": [
    "# for i in dfs:\n",
    "#     grouped = i.groupby('시도명')\n",
    "#     i = grouped.count().iloc[:, :1]\n",
    "#     print(i)"
   ]
  },
  {
   "cell_type": "code",
   "execution_count": 4,
   "metadata": {},
   "outputs": [],
   "source": [
    "df16 = pd.read_csv('./data/korea_cafe_def/korea_cafe_def_2016.csv', encoding = 'utf-8')\n",
    "df17 = pd.read_csv('./data/korea_cafe_def/korea_cafe_def_2017.csv', encoding = 'utf-8')\n",
    "df18 = pd.read_csv('./data/korea_cafe_def/korea_cafe_def_2018.csv', encoding = 'utf-8')\n",
    "df19 = pd.read_csv('./data/korea_cafe_def/korea_cafe_def_2019.csv', encoding = 'utf-8')"
   ]
  },
  {
   "cell_type": "code",
   "execution_count": 5,
   "metadata": {},
   "outputs": [],
   "source": [
    "# # concat전에 구분지어주기 위해 각각 새컬럼 추가\n",
    "# df16['year'] = 2016\n",
    "# df17['year'] = 2017\n",
    "# df18['year'] = 2018\n",
    "# df19['year'] = 2019"
   ]
  },
  {
   "cell_type": "code",
   "execution_count": 6,
   "metadata": {},
   "outputs": [],
   "source": [
    "# alldf= pd.concat([df16,df17,df18,df19], ignore_index=True)\n",
    "# alldf.info()\n",
    "# alldf.tail()"
   ]
  },
  {
   "cell_type": "markdown",
   "metadata": {},
   "source": [
    "### 시도별로 그룹화 후 갯수 세기"
   ]
  },
  {
   "cell_type": "code",
   "execution_count": 7,
   "metadata": {},
   "outputs": [],
   "source": [
    "# 개수 세고 컬럼명 바꾸기\n",
    "dic1 = {'상호명' : '2016년 카페수'}\n",
    "grouped = df16.groupby('시도명') # 그룹화\n",
    "cnt16 = grouped.count().iloc[:, :1] # 개수세기\n",
    "cnt16.rename(columns = dic1, inplace=True) # 컬럼명 바꾸기\n",
    "\n",
    "dic2 = {'상호명' : '2017년 카페수'}\n",
    "grouped = df17.groupby('시도명')\n",
    "cnt17 = grouped.count().iloc[:, :1]\n",
    "cnt17.rename(columns = dic2, inplace=True)\n",
    "\n",
    "dic3 = {'상호명' : '2018년 카페수'}\n",
    "grouped = df18.groupby('시도명')\n",
    "cnt18 = grouped.count().iloc[:, :1]\n",
    "cnt18.rename(columns = dic3, inplace=True)\n",
    "\n",
    "dic4 = {'상호명' : '2019년 카페수'}\n",
    "grouped = df19.groupby('시도명')\n",
    "cnt19 = grouped.count().iloc[:, :1]\n",
    "cnt19.rename(columns = dic4, inplace=True)"
   ]
  },
  {
   "cell_type": "code",
   "execution_count": 8,
   "metadata": {},
   "outputs": [
    {
     "data": {
      "text/html": [
       "<div>\n",
       "<style scoped>\n",
       "    .dataframe tbody tr th:only-of-type {\n",
       "        vertical-align: middle;\n",
       "    }\n",
       "\n",
       "    .dataframe tbody tr th {\n",
       "        vertical-align: top;\n",
       "    }\n",
       "\n",
       "    .dataframe thead th {\n",
       "        text-align: right;\n",
       "    }\n",
       "</style>\n",
       "<table border=\"1\" class=\"dataframe\">\n",
       "  <thead>\n",
       "    <tr style=\"text-align: right;\">\n",
       "      <th></th>\n",
       "      <th>2016년 카페수</th>\n",
       "      <th>2017년 카페수</th>\n",
       "      <th>2018년 카페수</th>\n",
       "      <th>2019년 카페수</th>\n",
       "    </tr>\n",
       "    <tr>\n",
       "      <th>시도명</th>\n",
       "      <th></th>\n",
       "      <th></th>\n",
       "      <th></th>\n",
       "      <th></th>\n",
       "    </tr>\n",
       "  </thead>\n",
       "  <tbody>\n",
       "    <tr>\n",
       "      <td>강원도</td>\n",
       "      <td>2289</td>\n",
       "      <td>3241</td>\n",
       "      <td>3662</td>\n",
       "      <td>3938</td>\n",
       "    </tr>\n",
       "    <tr>\n",
       "      <td>경기도</td>\n",
       "      <td>12613</td>\n",
       "      <td>17596</td>\n",
       "      <td>20154</td>\n",
       "      <td>22225</td>\n",
       "    </tr>\n",
       "  </tbody>\n",
       "</table>\n",
       "</div>"
      ],
      "text/plain": [
       "     2016년 카페수  2017년 카페수  2018년 카페수  2019년 카페수\n",
       "시도명                                            \n",
       "강원도       2289       3241       3662       3938\n",
       "경기도      12613      17596      20154      22225"
      ]
     },
     "execution_count": 8,
     "metadata": {},
     "output_type": "execute_result"
    }
   ],
   "source": [
    "cnt = pd.concat([cnt16,cnt17,cnt18,cnt19], axis=1)\n",
    "cnt.head(2)"
   ]
  },
  {
   "cell_type": "code",
   "execution_count": 9,
   "metadata": {},
   "outputs": [
    {
     "data": {
      "text/html": [
       "<div>\n",
       "<style scoped>\n",
       "    .dataframe tbody tr th:only-of-type {\n",
       "        vertical-align: middle;\n",
       "    }\n",
       "\n",
       "    .dataframe tbody tr th {\n",
       "        vertical-align: top;\n",
       "    }\n",
       "\n",
       "    .dataframe thead th {\n",
       "        text-align: right;\n",
       "    }\n",
       "</style>\n",
       "<table border=\"1\" class=\"dataframe\">\n",
       "  <thead>\n",
       "    <tr style=\"text-align: right;\">\n",
       "      <th></th>\n",
       "      <th>x</th>\n",
       "      <th>y</th>\n",
       "      <th>z</th>\n",
       "      <th>8</th>\n",
       "      <th>9</th>\n",
       "    </tr>\n",
       "  </thead>\n",
       "  <tbody>\n",
       "    <tr>\n",
       "      <td>a</td>\n",
       "      <td>0</td>\n",
       "      <td>1</td>\n",
       "      <td>2</td>\n",
       "      <td>3</td>\n",
       "      <td>4</td>\n",
       "    </tr>\n",
       "    <tr>\n",
       "      <td>b</td>\n",
       "      <td>5</td>\n",
       "      <td>6</td>\n",
       "      <td>7</td>\n",
       "      <td>8</td>\n",
       "      <td>9</td>\n",
       "    </tr>\n",
       "    <tr>\n",
       "      <td>c</td>\n",
       "      <td>10</td>\n",
       "      <td>11</td>\n",
       "      <td>12</td>\n",
       "      <td>13</td>\n",
       "      <td>14</td>\n",
       "    </tr>\n",
       "    <tr>\n",
       "      <td>d</td>\n",
       "      <td>15</td>\n",
       "      <td>16</td>\n",
       "      <td>17</td>\n",
       "      <td>18</td>\n",
       "      <td>19</td>\n",
       "    </tr>\n",
       "    <tr>\n",
       "      <td>c</td>\n",
       "      <td>20</td>\n",
       "      <td>21</td>\n",
       "      <td>22</td>\n",
       "      <td>23</td>\n",
       "      <td>24</td>\n",
       "    </tr>\n",
       "  </tbody>\n",
       "</table>\n",
       "</div>"
      ],
      "text/plain": [
       "    x   y   z   8   9\n",
       "a   0   1   2   3   4\n",
       "b   5   6   7   8   9\n",
       "c  10  11  12  13  14\n",
       "d  15  16  17  18  19\n",
       "c  20  21  22  23  24"
      ]
     },
     "execution_count": 9,
     "metadata": {},
     "output_type": "execute_result"
    }
   ],
   "source": [
    "### 넘파이로 데이터프레임 짜는법\n",
    "df2 = pd.DataFrame(np.arange(25).reshape(5,5), index=['a','b','c','d','c'], \n",
    "                   columns=['x','y','z', 8, 9])\n",
    "df2"
   ]
  },
  {
   "cell_type": "code",
   "execution_count": 10,
   "metadata": {},
   "outputs": [
    {
     "data": {
      "text/html": [
       "<div>\n",
       "<style scoped>\n",
       "    .dataframe tbody tr th:only-of-type {\n",
       "        vertical-align: middle;\n",
       "    }\n",
       "\n",
       "    .dataframe tbody tr th {\n",
       "        vertical-align: top;\n",
       "    }\n",
       "\n",
       "    .dataframe thead th {\n",
       "        text-align: right;\n",
       "    }\n",
       "</style>\n",
       "<table border=\"1\" class=\"dataframe\">\n",
       "  <thead>\n",
       "    <tr style=\"text-align: right;\">\n",
       "      <th></th>\n",
       "      <th>x</th>\n",
       "      <th>y</th>\n",
       "    </tr>\n",
       "  </thead>\n",
       "  <tbody>\n",
       "    <tr>\n",
       "      <td>c</td>\n",
       "      <td>10</td>\n",
       "      <td>11</td>\n",
       "    </tr>\n",
       "    <tr>\n",
       "      <td>c</td>\n",
       "      <td>20</td>\n",
       "      <td>21</td>\n",
       "    </tr>\n",
       "  </tbody>\n",
       "</table>\n",
       "</div>"
      ],
      "text/plain": [
       "    x   y\n",
       "c  10  11\n",
       "c  20  21"
      ]
     },
     "execution_count": 10,
     "metadata": {},
     "output_type": "execute_result"
    }
   ],
   "source": [
    "### 원하는 행 및 열을 가져오기\n",
    "df2.iloc[[2,4], [0,1]]"
   ]
  },
  {
   "cell_type": "markdown",
   "metadata": {},
   "source": [
    "## 지역별인구수 불러오기"
   ]
  },
  {
   "cell_type": "code",
   "execution_count": 11,
   "metadata": {},
   "outputs": [],
   "source": [
    "a = pd.read_csv('./data/korea_land_pop/korea_pop.csv', encoding = 'utf-8', header = 1) # header = 1\n",
    "# a.head(2)"
   ]
  },
  {
   "cell_type": "code",
   "execution_count": 12,
   "metadata": {},
   "outputs": [],
   "source": [
    "dic = {'행정구역(시군구)별' : '지역'} # 칼럼이름 바꾸기\n",
    "a.rename(columns = dic, inplace=True)\n",
    "# a.head(2)"
   ]
  },
  {
   "cell_type": "code",
   "execution_count": 13,
   "metadata": {},
   "outputs": [],
   "source": [
    "a1 =a.drop([0]) # 전국 행 삭제\n",
    "# a1.head(2)"
   ]
  },
  {
   "cell_type": "code",
   "execution_count": 14,
   "metadata": {},
   "outputs": [
    {
     "data": {
      "text/html": [
       "<div>\n",
       "<style scoped>\n",
       "    .dataframe tbody tr th:only-of-type {\n",
       "        vertical-align: middle;\n",
       "    }\n",
       "\n",
       "    .dataframe tbody tr th {\n",
       "        vertical-align: top;\n",
       "    }\n",
       "\n",
       "    .dataframe thead th {\n",
       "        text-align: right;\n",
       "    }\n",
       "</style>\n",
       "<table border=\"1\" class=\"dataframe\">\n",
       "  <thead>\n",
       "    <tr style=\"text-align: right;\">\n",
       "      <th></th>\n",
       "      <th>지역</th>\n",
       "      <th>총인구수 (명)</th>\n",
       "      <th>남자인구수 (명)</th>\n",
       "      <th>여자인구수 (명)</th>\n",
       "      <th>총인구수 (명).1</th>\n",
       "      <th>남자인구수 (명).1</th>\n",
       "      <th>여자인구수 (명).1</th>\n",
       "      <th>총인구수 (명).2</th>\n",
       "      <th>남자인구수 (명).2</th>\n",
       "      <th>여자인구수 (명).2</th>\n",
       "      <th>...</th>\n",
       "      <th>여자인구수 (명).6</th>\n",
       "      <th>총인구수 (명).7</th>\n",
       "      <th>남자인구수 (명).7</th>\n",
       "      <th>여자인구수 (명).7</th>\n",
       "      <th>총인구수 (명).8</th>\n",
       "      <th>남자인구수 (명).8</th>\n",
       "      <th>여자인구수 (명).8</th>\n",
       "      <th>총인구수 (명).9</th>\n",
       "      <th>남자인구수 (명).9</th>\n",
       "      <th>여자인구수 (명).9</th>\n",
       "    </tr>\n",
       "  </thead>\n",
       "  <tbody>\n",
       "    <tr>\n",
       "      <td>1</td>\n",
       "      <td>서울특별시</td>\n",
       "      <td>10312545</td>\n",
       "      <td>5111259</td>\n",
       "      <td>5201286</td>\n",
       "      <td>10249679</td>\n",
       "      <td>5073899</td>\n",
       "      <td>5175780</td>\n",
       "      <td>10195318</td>\n",
       "      <td>5041336</td>\n",
       "      <td>5153982</td>\n",
       "      <td>...</td>\n",
       "      <td>5053827</td>\n",
       "      <td>9857426</td>\n",
       "      <td>4830206</td>\n",
       "      <td>5027220</td>\n",
       "      <td>9765623</td>\n",
       "      <td>4773899</td>\n",
       "      <td>4991724</td>\n",
       "      <td>9729107</td>\n",
       "      <td>4744059</td>\n",
       "      <td>4985048</td>\n",
       "    </tr>\n",
       "    <tr>\n",
       "      <td>2</td>\n",
       "      <td>부산광역시</td>\n",
       "      <td>3567910</td>\n",
       "      <td>1773170</td>\n",
       "      <td>1794740</td>\n",
       "      <td>3550963</td>\n",
       "      <td>1762848</td>\n",
       "      <td>1788115</td>\n",
       "      <td>3538484</td>\n",
       "      <td>1754479</td>\n",
       "      <td>1784005</td>\n",
       "      <td>...</td>\n",
       "      <td>1772922</td>\n",
       "      <td>3470653</td>\n",
       "      <td>1709508</td>\n",
       "      <td>1761145</td>\n",
       "      <td>3441453</td>\n",
       "      <td>1692421</td>\n",
       "      <td>1749032</td>\n",
       "      <td>3413841</td>\n",
       "      <td>1675417</td>\n",
       "      <td>1738424</td>\n",
       "    </tr>\n",
       "  </tbody>\n",
       "</table>\n",
       "<p>2 rows × 31 columns</p>\n",
       "</div>"
      ],
      "text/plain": [
       "      지역  총인구수 (명) 남자인구수 (명) 여자인구수 (명) 총인구수 (명).1 남자인구수 (명).1 여자인구수 (명).1  \\\n",
       "1  서울특별시  10312545   5111259   5201286   10249679     5073899     5175780   \n",
       "2  부산광역시   3567910   1773170   1794740    3550963     1762848     1788115   \n",
       "\n",
       "   총인구수 (명).2  남자인구수 (명).2  여자인구수 (명).2  ...  여자인구수 (명).6  총인구수 (명).7  \\\n",
       "1    10195318      5041336      5153982  ...      5053827     9857426   \n",
       "2     3538484      1754479      1784005  ...      1772922     3470653   \n",
       "\n",
       "   남자인구수 (명).7  여자인구수 (명).7  총인구수 (명).8  남자인구수 (명).8  여자인구수 (명).8  총인구수 (명).9  \\\n",
       "1      4830206      5027220     9765623      4773899      4991724     9729107   \n",
       "2      1709508      1761145     3441453      1692421      1749032     3413841   \n",
       "\n",
       "   남자인구수 (명).9  여자인구수 (명).9  \n",
       "1      4744059      4985048  \n",
       "2      1675417      1738424  \n",
       "\n",
       "[2 rows x 31 columns]"
      ]
     },
     "execution_count": 14,
     "metadata": {},
     "output_type": "execute_result"
    }
   ],
   "source": [
    "pop_df = a1\n",
    "a1.head(2)"
   ]
  },
  {
   "cell_type": "markdown",
   "metadata": {},
   "source": [
    "#### Merge 하기\n",
    "- 인덱스-인덱스\n",
    "- 인덱스-컬럼\n",
    "- 컬럼-컬럼\n",
    "- pop19 = p19.to_frame()"
   ]
  },
  {
   "cell_type": "code",
   "execution_count": 15,
   "metadata": {},
   "outputs": [],
   "source": [
    "# 멍청한 방법 \n",
    "# p16 = pop_df.iloc[:, [0,-12]]\n",
    "# p17 = pop_df.iloc[:, [0,-9]]\n",
    "# p18 = pop_df.iloc[:, [0,-6]]\n",
    "# p19 = pop_df.iloc[:, [0,-3]]\n",
    "# pop = pd.concat([p16,p17,p18,p19], axis=1)\n",
    "# pop.head(2)"
   ]
  },
  {
   "cell_type": "code",
   "execution_count": 16,
   "metadata": {},
   "outputs": [
    {
     "data": {
      "text/html": [
       "<div>\n",
       "<style scoped>\n",
       "    .dataframe tbody tr th:only-of-type {\n",
       "        vertical-align: middle;\n",
       "    }\n",
       "\n",
       "    .dataframe tbody tr th {\n",
       "        vertical-align: top;\n",
       "    }\n",
       "\n",
       "    .dataframe thead th {\n",
       "        text-align: right;\n",
       "    }\n",
       "</style>\n",
       "<table border=\"1\" class=\"dataframe\">\n",
       "  <thead>\n",
       "    <tr style=\"text-align: right;\">\n",
       "      <th></th>\n",
       "      <th>지역</th>\n",
       "      <th>총인구수 (명).6</th>\n",
       "      <th>총인구수 (명).7</th>\n",
       "      <th>총인구수 (명).8</th>\n",
       "      <th>총인구수 (명).9</th>\n",
       "    </tr>\n",
       "  </thead>\n",
       "  <tbody>\n",
       "    <tr>\n",
       "      <td>1</td>\n",
       "      <td>서울특별시</td>\n",
       "      <td>9930616</td>\n",
       "      <td>9857426</td>\n",
       "      <td>9765623</td>\n",
       "      <td>9729107</td>\n",
       "    </tr>\n",
       "    <tr>\n",
       "      <td>2</td>\n",
       "      <td>부산광역시</td>\n",
       "      <td>3498529</td>\n",
       "      <td>3470653</td>\n",
       "      <td>3441453</td>\n",
       "      <td>3413841</td>\n",
       "    </tr>\n",
       "  </tbody>\n",
       "</table>\n",
       "</div>"
      ],
      "text/plain": [
       "      지역  총인구수 (명).6  총인구수 (명).7  총인구수 (명).8  총인구수 (명).9\n",
       "1  서울특별시     9930616     9857426     9765623     9729107\n",
       "2  부산광역시     3498529     3470653     3441453     3413841"
      ]
     },
     "execution_count": 16,
     "metadata": {},
     "output_type": "execute_result"
    }
   ],
   "source": [
    "pop = pop_df.iloc[:, [0,-12,-9,-6,-3]]\n",
    "pop.head(2)"
   ]
  },
  {
   "cell_type": "code",
   "execution_count": 18,
   "metadata": {},
   "outputs": [],
   "source": [
    "dic = { '총인구수 (명).6':'2016년 인구수', '총인구수 (명).7':'2017년 인구수',\n",
    "        '총인구수 (명).8':'2018년 인구수', '총인구수 (명).9':'2019년 인구수'}\n",
    "pop.rename(columns = dic, inplace=True)\n",
    "# pop.info()\n",
    "# pop.head(2)"
   ]
  },
  {
   "cell_type": "code",
   "execution_count": 19,
   "metadata": {},
   "outputs": [],
   "source": [
    "# cnt.info()\n",
    "# cnt.head(2)"
   ]
  },
  {
   "cell_type": "markdown",
   "metadata": {},
   "source": [
    "### 인덱스 - 컬럼으로 병합\n",
    "mrg = pop.merge(cnt, left_on='지역', right_index=True)\n",
    "mrg.info()\n",
    "mrg.head(2)"
   ]
  },
  {
   "cell_type": "code",
   "execution_count": 20,
   "metadata": {},
   "outputs": [],
   "source": [
    "# 인덱스로 Merge 할 경우 지정.\n",
    "pop_inx = pop.set_index('지역')\n",
    "# pop_inx.head(2)"
   ]
  },
  {
   "cell_type": "code",
   "execution_count": 21,
   "metadata": {},
   "outputs": [
    {
     "data": {
      "text/html": [
       "<div>\n",
       "<style scoped>\n",
       "    .dataframe tbody tr th:only-of-type {\n",
       "        vertical-align: middle;\n",
       "    }\n",
       "\n",
       "    .dataframe tbody tr th {\n",
       "        vertical-align: top;\n",
       "    }\n",
       "\n",
       "    .dataframe thead th {\n",
       "        text-align: right;\n",
       "    }\n",
       "</style>\n",
       "<table border=\"1\" class=\"dataframe\">\n",
       "  <thead>\n",
       "    <tr style=\"text-align: right;\">\n",
       "      <th></th>\n",
       "      <th>2016년 카페수</th>\n",
       "      <th>2017년 카페수</th>\n",
       "      <th>2018년 카페수</th>\n",
       "      <th>2019년 카페수</th>\n",
       "      <th>2016년 인구수</th>\n",
       "      <th>2017년 인구수</th>\n",
       "      <th>2018년 인구수</th>\n",
       "      <th>2019년 인구수</th>\n",
       "    </tr>\n",
       "  </thead>\n",
       "  <tbody>\n",
       "    <tr>\n",
       "      <td>강원도</td>\n",
       "      <td>2289</td>\n",
       "      <td>3241</td>\n",
       "      <td>3662</td>\n",
       "      <td>3938</td>\n",
       "      <td>1550806</td>\n",
       "      <td>1550142</td>\n",
       "      <td>1543052</td>\n",
       "      <td>1541502</td>\n",
       "    </tr>\n",
       "    <tr>\n",
       "      <td>경기도</td>\n",
       "      <td>12613</td>\n",
       "      <td>17596</td>\n",
       "      <td>20154</td>\n",
       "      <td>22225</td>\n",
       "      <td>12716780</td>\n",
       "      <td>12873895</td>\n",
       "      <td>13077153</td>\n",
       "      <td>13239666</td>\n",
       "    </tr>\n",
       "  </tbody>\n",
       "</table>\n",
       "</div>"
      ],
      "text/plain": [
       "     2016년 카페수  2017년 카페수  2018년 카페수  2019년 카페수  2016년 인구수  2017년 인구수  \\\n",
       "강원도       2289       3241       3662       3938    1550806    1550142   \n",
       "경기도      12613      17596      20154      22225   12716780   12873895   \n",
       "\n",
       "     2018년 인구수  2019년 인구수  \n",
       "강원도    1543052    1541502  \n",
       "경기도   13077153   13239666  "
      ]
     },
     "execution_count": 21,
     "metadata": {},
     "output_type": "execute_result"
    }
   ],
   "source": [
    "# 인덱스 - 인덱스로 merge 실행\n",
    "mrg_idx = cnt.merge(pop_inx, left_index=True, right_index=True)\n",
    "mrg_idx.head(2)"
   ]
  },
  {
   "cell_type": "markdown",
   "metadata": {},
   "source": [
    "### cnt16카페갯수와 pop16년도별 인구수"
   ]
  },
  {
   "cell_type": "code",
   "execution_count": 22,
   "metadata": {},
   "outputs": [],
   "source": [
    "mrg_idx['2016인구당카페수(ea/명)'] = mrg_idx['2016년 카페수']/mrg_idx['2016년 인구수']\n",
    "mrg_idx['2017인구당카페수(ea/명)'] = mrg_idx['2017년 카페수']/mrg_idx['2017년 인구수']\n",
    "mrg_idx['2018인구당카페수(ea/명)'] = mrg_idx['2018년 카페수']/mrg_idx['2018년 인구수']\n",
    "mrg_idx['2019인구당카페수(ea/명)'] = mrg_idx['2019년 카페수']/mrg_idx['2019년 인구수']\n",
    "mrg_idx['2016카페당관할인구수(명/ea)'] = mrg_idx['2016년 인구수']/mrg_idx['2016년 카페수']\n",
    "mrg_idx['2017카페당관할인구수(명/ea)'] = mrg_idx['2017년 인구수']/mrg_idx['2017년 카페수']\n",
    "mrg_idx['2018카페당관할인구수(명/ea)'] = mrg_idx['2018년 인구수']/mrg_idx['2018년 카페수']\n",
    "mrg_idx['2019카페당관할인구수(명/ea)'] = mrg_idx['2019년 인구수']/mrg_idx['2019년 카페수']"
   ]
  },
  {
   "cell_type": "code",
   "execution_count": 31,
   "metadata": {},
   "outputs": [
    {
     "name": "stdout",
     "output_type": "stream",
     "text": [
      "<class 'pandas.core.frame.DataFrame'>\n",
      "Index: 17 entries, 강원도 to 충청북도\n",
      "Data columns (total 12 columns):\n",
      "2016년 카페수             17 non-null int64\n",
      "2017년 카페수             17 non-null int64\n",
      "2018년 카페수             17 non-null int64\n",
      "2019년 카페수             17 non-null int64\n",
      "2016인구당카페수(ea/명)      17 non-null float64\n",
      "2017인구당카페수(ea/명)      17 non-null float64\n",
      "2018인구당카페수(ea/명)      17 non-null float64\n",
      "2019인구당카페수(ea/명)      17 non-null float64\n",
      "2016카페당관할인구수(명/ea)    17 non-null float64\n",
      "2017카페당관할인구수(명/ea)    17 non-null float64\n",
      "2018카페당관할인구수(명/ea)    17 non-null float64\n",
      "2019카페당관할인구수(명/ea)    17 non-null float64\n",
      "dtypes: float64(8), int64(4)\n",
      "memory usage: 2.4+ KB\n",
      "None (17, 12)\n"
     ]
    }
   ],
   "source": [
    "df = mrg_idx.iloc[:,[0,1,2,3,8,9,10,11,12,13,14,15]]\n",
    "print(df.info() , df.shape)"
   ]
  },
  {
   "cell_type": "code",
   "execution_count": 33,
   "metadata": {},
   "outputs": [
    {
     "name": "stdout",
     "output_type": "stream",
     "text": [
      "2016년 카페수             0\n",
      "2017년 카페수             0\n",
      "2018년 카페수             0\n",
      "2019년 카페수             0\n",
      "2016인구당카페수(ea/명)      0\n",
      "2017인구당카페수(ea/명)      0\n",
      "2018인구당카페수(ea/명)      0\n",
      "2019인구당카페수(ea/명)      0\n",
      "2016카페당관할인구수(명/ea)    0\n",
      "2017카페당관할인구수(명/ea)    0\n",
      "2018카페당관할인구수(명/ea)    0\n",
      "2019카페당관할인구수(명/ea)    0\n",
      "dtype: int64\n"
     ]
    }
   ],
   "source": [
    "missing = df.shape[0] - df.count()\n",
    "print(missing)"
   ]
  },
  {
   "cell_type": "code",
   "execution_count": 36,
   "metadata": {},
   "outputs": [
    {
     "name": "stdout",
     "output_type": "stream",
     "text": [
      "<class 'pandas.core.frame.DataFrame'>\n",
      "RangeIndex: 17 entries, 0 to 16\n",
      "Data columns (total 13 columns):\n",
      "Unnamed: 0            17 non-null object\n",
      "2016년 카페수             17 non-null int64\n",
      "2017년 카페수             17 non-null int64\n",
      "2018년 카페수             17 non-null int64\n",
      "2019년 카페수             17 non-null int64\n",
      "2016인구당카페수(ea/명)      17 non-null float64\n",
      "2017인구당카페수(ea/명)      17 non-null float64\n",
      "2018인구당카페수(ea/명)      17 non-null float64\n",
      "2019인구당카페수(ea/명)      17 non-null float64\n",
      "2016카페당관할인구수(명/ea)    17 non-null float64\n",
      "2017카페당관할인구수(명/ea)    17 non-null float64\n",
      "2018카페당관할인구수(명/ea)    17 non-null float64\n",
      "2019카페당관할인구수(명/ea)    17 non-null float64\n",
      "dtypes: float64(8), int64(4), object(1)\n",
      "memory usage: 1.9+ KB\n",
      "None (17, 13)\n"
     ]
    }
   ],
   "source": [
    "result.to_csv('./korea_cafe_per_pop_all.csv', encoding = 'utf-8')\n",
    "df1 = pd.read_csv('./korea_cafe_per_pop_all.csv', encoding = 'utf-8')\n",
    "print(df1.info() , df1.shape)"
   ]
  },
  {
   "cell_type": "code",
   "execution_count": 37,
   "metadata": {},
   "outputs": [
    {
     "name": "stdout",
     "output_type": "stream",
     "text": [
      "2016년 카페수             0\n",
      "2017년 카페수             0\n",
      "2018년 카페수             0\n",
      "2019년 카페수             0\n",
      "2016인구당카페수(ea/명)      0\n",
      "2017인구당카페수(ea/명)      0\n",
      "2018인구당카페수(ea/명)      0\n",
      "2019인구당카페수(ea/명)      0\n",
      "2016카페당관할인구수(명/ea)    0\n",
      "2017카페당관할인구수(명/ea)    0\n",
      "2018카페당관할인구수(명/ea)    0\n",
      "2019카페당관할인구수(명/ea)    0\n",
      "dtype: int64\n"
     ]
    }
   ],
   "source": [
    "missing = df.shape[0] - df.count()\n",
    "print(missing)"
   ]
  },
  {
   "cell_type": "markdown",
   "metadata": {},
   "source": [
    "### object type -> int/float 으로 바꾸기\n",
    "- 콤마를 먼저 없애고 object를 숫자로 바꾼다\n",
    "    - result['시도명'].str.replace(',', '')\n",
    "    - astype\n",
    "    - to_numeric"
   ]
  },
  {
   "cell_type": "markdown",
   "metadata": {},
   "source": [
    "### 불필요한 컬럼 드랍 (또는 컬럼명 변경)\n",
    "- del 사용\n",
    "    - del df['C']\n",
    "- drop 사용\n",
    "    - cnt16.drop(['상호명'], axis='columns', inplace=True)\n",
    "    - df = df.drop(['B', 'E'], axis=1) # without the option inplace=True\n",
    "- 열번호에 drop\n",
    "    - df.drop(df.columns[[0, 2]], axis='columns')"
   ]
  },
  {
   "cell_type": "code",
   "execution_count": null,
   "metadata": {},
   "outputs": [],
   "source": []
  },
  {
   "cell_type": "code",
   "execution_count": null,
   "metadata": {},
   "outputs": [],
   "source": []
  },
  {
   "cell_type": "code",
   "execution_count": null,
   "metadata": {},
   "outputs": [],
   "source": []
  },
  {
   "cell_type": "code",
   "execution_count": null,
   "metadata": {},
   "outputs": [],
   "source": []
  },
  {
   "cell_type": "code",
   "execution_count": null,
   "metadata": {},
   "outputs": [],
   "source": []
  },
  {
   "cell_type": "code",
   "execution_count": null,
   "metadata": {},
   "outputs": [],
   "source": []
  }
 ],
 "metadata": {
  "kernelspec": {
   "display_name": "Python 3",
   "language": "python",
   "name": "python3"
  },
  "language_info": {
   "codemirror_mode": {
    "name": "ipython",
    "version": 3
   },
   "file_extension": ".py",
   "mimetype": "text/x-python",
   "name": "python",
   "nbconvert_exporter": "python",
   "pygments_lexer": "ipython3",
   "version": "3.7.4"
  }
 },
 "nbformat": 4,
 "nbformat_minor": 4
}
