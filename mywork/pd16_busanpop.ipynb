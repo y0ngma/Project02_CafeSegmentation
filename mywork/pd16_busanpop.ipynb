{
 "cells": [
  {
   "cell_type": "code",
   "execution_count": 13,
   "metadata": {},
   "outputs": [
    {
     "data": {
      "text/html": [
       "<div>\n",
       "<style scoped>\n",
       "    .dataframe tbody tr th:only-of-type {\n",
       "        vertical-align: middle;\n",
       "    }\n",
       "\n",
       "    .dataframe tbody tr th {\n",
       "        vertical-align: top;\n",
       "    }\n",
       "\n",
       "    .dataframe thead th {\n",
       "        text-align: right;\n",
       "    }\n",
       "</style>\n",
       "<table border=\"1\" class=\"dataframe\">\n",
       "  <thead>\n",
       "    <tr style=\"text-align: right;\">\n",
       "      <th></th>\n",
       "      <th>구  분</th>\n",
       "      <th>읍·면·\\n동 수</th>\n",
       "      <th>세   대</th>\n",
       "      <th>인   구(명)</th>\n",
       "      <th>Unnamed: 4</th>\n",
       "      <th>Unnamed: 5</th>\n",
       "      <th>시전체\\n인구에 대한\\n구성비(%)</th>\n",
       "      <th>면적\\n(㎢)</th>\n",
       "      <th>인구밀도\\n(명/㎢)</th>\n",
       "    </tr>\n",
       "  </thead>\n",
       "  <tbody>\n",
       "    <tr>\n",
       "      <td>0</td>\n",
       "      <td>NaN</td>\n",
       "      <td>NaN</td>\n",
       "      <td>NaN</td>\n",
       "      <td>계</td>\n",
       "      <td>남</td>\n",
       "      <td>여</td>\n",
       "      <td>NaN</td>\n",
       "      <td>NaN</td>\n",
       "      <td>NaN</td>\n",
       "    </tr>\n",
       "    <tr>\n",
       "      <td>1</td>\n",
       "      <td>부산광역시</td>\n",
       "      <td>206.0</td>\n",
       "      <td>1496361.0</td>\n",
       "      <td>3470256</td>\n",
       "      <td>1706084</td>\n",
       "      <td>1764172</td>\n",
       "      <td>100.000000</td>\n",
       "      <td>769.94</td>\n",
       "      <td>4507.0</td>\n",
       "    </tr>\n",
       "    <tr>\n",
       "      <td>2</td>\n",
       "      <td>중    구</td>\n",
       "      <td>9.0</td>\n",
       "      <td>23153.0</td>\n",
       "      <td>44169</td>\n",
       "      <td>21959</td>\n",
       "      <td>22210</td>\n",
       "      <td>1.272788</td>\n",
       "      <td>2.83</td>\n",
       "      <td>15607.0</td>\n",
       "    </tr>\n",
       "    <tr>\n",
       "      <td>3</td>\n",
       "      <td>서    구</td>\n",
       "      <td>13.0</td>\n",
       "      <td>52819.0</td>\n",
       "      <td>110576</td>\n",
       "      <td>54053</td>\n",
       "      <td>56523</td>\n",
       "      <td>3.186393</td>\n",
       "      <td>13.98</td>\n",
       "      <td>7910.0</td>\n",
       "    </tr>\n",
       "    <tr>\n",
       "      <td>4</td>\n",
       "      <td>동    구</td>\n",
       "      <td>12.0</td>\n",
       "      <td>44473.0</td>\n",
       "      <td>90245</td>\n",
       "      <td>44350</td>\n",
       "      <td>45895</td>\n",
       "      <td>2.600529</td>\n",
       "      <td>9.74</td>\n",
       "      <td>9265.0</td>\n",
       "    </tr>\n",
       "  </tbody>\n",
       "</table>\n",
       "</div>"
      ],
      "text/plain": [
       "     구  분  읍·면·\\n동 수      세   대 인   구(명) Unnamed: 4 Unnamed: 5  \\\n",
       "0     NaN        NaN        NaN        계          남          여   \n",
       "1   부산광역시      206.0  1496361.0  3470256    1706084    1764172   \n",
       "2  중    구        9.0    23153.0    44169      21959      22210   \n",
       "3  서    구       13.0    52819.0   110576      54053      56523   \n",
       "4  동    구       12.0    44473.0    90245      44350      45895   \n",
       "\n",
       "   시전체\\n인구에 대한\\n구성비(%)  면적\\n(㎢)  인구밀도\\n(명/㎢)  \n",
       "0                  NaN      NaN          NaN  \n",
       "1           100.000000   769.94       4507.0  \n",
       "2             1.272788     2.83      15607.0  \n",
       "3             3.186393    13.98       7910.0  \n",
       "4             2.600529     9.74       9265.0  "
      ]
     },
     "execution_count": 13,
     "metadata": {},
     "output_type": "execute_result"
    }
   ],
   "source": [
    "import pandas as pd\n",
    "df = pd.read_excel('./data/busan_population.xlsx', encoding = 'euc-kr')\n",
    "df.head()"
   ]
  },
  {
   "cell_type": "code",
   "execution_count": 14,
   "metadata": {},
   "outputs": [
    {
     "data": {
      "text/html": [
       "<div>\n",
       "<style scoped>\n",
       "    .dataframe tbody tr th:only-of-type {\n",
       "        vertical-align: middle;\n",
       "    }\n",
       "\n",
       "    .dataframe tbody tr th {\n",
       "        vertical-align: top;\n",
       "    }\n",
       "\n",
       "    .dataframe thead th {\n",
       "        text-align: right;\n",
       "    }\n",
       "</style>\n",
       "<table border=\"1\" class=\"dataframe\">\n",
       "  <thead>\n",
       "    <tr style=\"text-align: right;\">\n",
       "      <th></th>\n",
       "      <th>구  분</th>\n",
       "      <th>읍·면·\\n동 수</th>\n",
       "      <th>세   대</th>\n",
       "      <th>인   구(명)</th>\n",
       "      <th>Unnamed: 4</th>\n",
       "      <th>Unnamed: 5</th>\n",
       "      <th>시전체\\n인구에 대한\\n구성비(%)</th>\n",
       "      <th>면적\\n(㎢)</th>\n",
       "      <th>인구밀도\\n(명/㎢)</th>\n",
       "    </tr>\n",
       "  </thead>\n",
       "  <tbody>\n",
       "    <tr>\n",
       "      <td>1</td>\n",
       "      <td>부산광역시</td>\n",
       "      <td>206.0</td>\n",
       "      <td>1496361.0</td>\n",
       "      <td>3470256</td>\n",
       "      <td>1706084</td>\n",
       "      <td>1764172</td>\n",
       "      <td>100.000000</td>\n",
       "      <td>769.94</td>\n",
       "      <td>4507.0</td>\n",
       "    </tr>\n",
       "    <tr>\n",
       "      <td>2</td>\n",
       "      <td>중    구</td>\n",
       "      <td>9.0</td>\n",
       "      <td>23153.0</td>\n",
       "      <td>44169</td>\n",
       "      <td>21959</td>\n",
       "      <td>22210</td>\n",
       "      <td>1.272788</td>\n",
       "      <td>2.83</td>\n",
       "      <td>15607.0</td>\n",
       "    </tr>\n",
       "    <tr>\n",
       "      <td>3</td>\n",
       "      <td>서    구</td>\n",
       "      <td>13.0</td>\n",
       "      <td>52819.0</td>\n",
       "      <td>110576</td>\n",
       "      <td>54053</td>\n",
       "      <td>56523</td>\n",
       "      <td>3.186393</td>\n",
       "      <td>13.98</td>\n",
       "      <td>7910.0</td>\n",
       "    </tr>\n",
       "    <tr>\n",
       "      <td>4</td>\n",
       "      <td>동    구</td>\n",
       "      <td>12.0</td>\n",
       "      <td>44473.0</td>\n",
       "      <td>90245</td>\n",
       "      <td>44350</td>\n",
       "      <td>45895</td>\n",
       "      <td>2.600529</td>\n",
       "      <td>9.74</td>\n",
       "      <td>9265.0</td>\n",
       "    </tr>\n",
       "    <tr>\n",
       "      <td>5</td>\n",
       "      <td>영 도 구</td>\n",
       "      <td>11.0</td>\n",
       "      <td>54909.0</td>\n",
       "      <td>118962</td>\n",
       "      <td>58960</td>\n",
       "      <td>60002</td>\n",
       "      <td>3.428047</td>\n",
       "      <td>14.20</td>\n",
       "      <td>8378.0</td>\n",
       "    </tr>\n",
       "  </tbody>\n",
       "</table>\n",
       "</div>"
      ],
      "text/plain": [
       "     구  분  읍·면·\\n동 수      세   대 인   구(명) Unnamed: 4 Unnamed: 5  \\\n",
       "1   부산광역시      206.0  1496361.0  3470256    1706084    1764172   \n",
       "2  중    구        9.0    23153.0    44169      21959      22210   \n",
       "3  서    구       13.0    52819.0   110576      54053      56523   \n",
       "4  동    구       12.0    44473.0    90245      44350      45895   \n",
       "5   영 도 구       11.0    54909.0   118962      58960      60002   \n",
       "\n",
       "   시전체\\n인구에 대한\\n구성비(%)  면적\\n(㎢)  인구밀도\\n(명/㎢)  \n",
       "1           100.000000   769.94       4507.0  \n",
       "2             1.272788     2.83      15607.0  \n",
       "3             3.186393    13.98       7910.0  \n",
       "4             2.600529     9.74       9265.0  \n",
       "5             3.428047    14.20       8378.0  "
      ]
     },
     "execution_count": 14,
     "metadata": {},
     "output_type": "execute_result"
    }
   ],
   "source": [
    "df = df.iloc[1:,:]\n",
    "df.head()"
   ]
  },
  {
   "cell_type": "code",
   "execution_count": 15,
   "metadata": {},
   "outputs": [
    {
     "name": "stdout",
     "output_type": "stream",
     "text": [
      "<class 'pandas.core.frame.DataFrame'>\n",
      "RangeIndex: 17 entries, 1 to 17\n",
      "Data columns (total 9 columns):\n",
      "구  분                 17 non-null object\n",
      "읍·면·\n",
      "동 수             17 non-null float64\n",
      "세   대                17 non-null float64\n",
      "인   구(명)             17 non-null object\n",
      "Unnamed: 4           17 non-null object\n",
      "Unnamed: 5           17 non-null object\n",
      "시전체\n",
      "인구에 대한\n",
      "구성비(%)    17 non-null float64\n",
      "면적\n",
      "(㎢)               17 non-null float64\n",
      "인구밀도\n",
      "(명/㎢)           17 non-null float64\n",
      "dtypes: float64(5), object(4)\n",
      "memory usage: 1.3+ KB\n",
      "None (17, 9)\n"
     ]
    }
   ],
   "source": [
    "print(df.info() , df.shape)"
   ]
  },
  {
   "cell_type": "code",
   "execution_count": 16,
   "metadata": {},
   "outputs": [
    {
     "data": {
      "text/plain": [
       "구  분                   0\n",
       "읍·면·\\n동 수              0\n",
       "세   대                  0\n",
       "인   구(명)               0\n",
       "Unnamed: 4             0\n",
       "Unnamed: 5             0\n",
       "시전체\\n인구에 대한\\n구성비(%)    0\n",
       "면적\\n(㎢)                0\n",
       "인구밀도\\n(명/㎢)            0\n",
       "dtype: int64"
      ]
     },
     "execution_count": 16,
     "metadata": {},
     "output_type": "execute_result"
    }
   ],
   "source": [
    "missing = df.shape[0] - df.count()\n",
    "missing"
   ]
  },
  {
   "cell_type": "code",
   "execution_count": 17,
   "metadata": {},
   "outputs": [
    {
     "data": {
      "text/plain": [
       "Index(['구  분', '읍·면·\\n동 수', '세   대', '인   구(명)', 'Unnamed: 4', 'Unnamed: 5',\n",
       "       '시전체\\n인구에 대한\\n구성비(%)', '면적\\n(㎢)', '인구밀도\\n(명/㎢)'],\n",
       "      dtype='object')"
      ]
     },
     "execution_count": 17,
     "metadata": {},
     "output_type": "execute_result"
    }
   ],
   "source": [
    "df.columns"
   ]
  },
  {
   "cell_type": "code",
   "execution_count": 18,
   "metadata": {},
   "outputs": [
    {
     "data": {
      "text/plain": [
       "Index(['구  분', '읍·면·\\n동 수', '세   대', '인   구(명)', '남자(인구)', '여자(인구)',\n",
       "       '시전체\\n인구에 대한\\n구성비(%)', '면적\\n(㎢)', '인구밀도\\n(명/㎢)'],\n",
       "      dtype='object')"
      ]
     },
     "execution_count": 18,
     "metadata": {},
     "output_type": "execute_result"
    }
   ],
   "source": [
    "dic = {'Unnamed: 4' : '남자(인구)', 'Unnamed: 5' : '여자(인구)'}\n",
    "df.rename(columns = dic, inplace=True)\n",
    "df.columns"
   ]
  },
  {
   "cell_type": "code",
   "execution_count": 19,
   "metadata": {},
   "outputs": [],
   "source": [
    "# 데이터 저장\n",
    "df.to_csv('./data/busan_pop_land.csv', sep=',', encoding='euc-kr', index=False)"
   ]
  },
  {
   "cell_type": "code",
   "execution_count": 20,
   "metadata": {},
   "outputs": [],
   "source": [
    "df1 = pd.read_csv('./data/busan_pop_land.csv', encoding='euc-kr')"
   ]
  },
  {
   "cell_type": "code",
   "execution_count": 21,
   "metadata": {},
   "outputs": [
    {
     "data": {
      "text/plain": [
       "Index(['구  분', '읍·면·\\n동 수', '세   대', '인   구(명)', '남자(인구)', '여자(인구)',\n",
       "       '시전체\\n인구에 대한\\n구성비(%)', '면적\\n(㎢)', '인구밀도\\n(명/㎢)'],\n",
       "      dtype='object')"
      ]
     },
     "execution_count": 21,
     "metadata": {},
     "output_type": "execute_result"
    }
   ],
   "source": [
    "df1.columns"
   ]
  },
  {
   "cell_type": "code",
   "execution_count": 22,
   "metadata": {},
   "outputs": [
    {
     "data": {
      "text/html": [
       "<div>\n",
       "<style scoped>\n",
       "    .dataframe tbody tr th:only-of-type {\n",
       "        vertical-align: middle;\n",
       "    }\n",
       "\n",
       "    .dataframe tbody tr th {\n",
       "        vertical-align: top;\n",
       "    }\n",
       "\n",
       "    .dataframe thead th {\n",
       "        text-align: right;\n",
       "    }\n",
       "</style>\n",
       "<table border=\"1\" class=\"dataframe\">\n",
       "  <thead>\n",
       "    <tr style=\"text-align: right;\">\n",
       "      <th></th>\n",
       "      <th>구  분</th>\n",
       "      <th>읍·면·\\n동 수</th>\n",
       "      <th>세   대</th>\n",
       "      <th>인   구(명)</th>\n",
       "      <th>남자(인구)</th>\n",
       "      <th>여자(인구)</th>\n",
       "      <th>시전체\\n인구에 대한\\n구성비(%)</th>\n",
       "      <th>면적\\n(㎢)</th>\n",
       "      <th>인구밀도\\n(명/㎢)</th>\n",
       "    </tr>\n",
       "  </thead>\n",
       "  <tbody>\n",
       "    <tr>\n",
       "      <td>0</td>\n",
       "      <td>부산광역시</td>\n",
       "      <td>206.0</td>\n",
       "      <td>1496361.0</td>\n",
       "      <td>3470256</td>\n",
       "      <td>1706084</td>\n",
       "      <td>1764172</td>\n",
       "      <td>100.000000</td>\n",
       "      <td>769.94</td>\n",
       "      <td>4507.0</td>\n",
       "    </tr>\n",
       "    <tr>\n",
       "      <td>1</td>\n",
       "      <td>중    구</td>\n",
       "      <td>9.0</td>\n",
       "      <td>23153.0</td>\n",
       "      <td>44169</td>\n",
       "      <td>21959</td>\n",
       "      <td>22210</td>\n",
       "      <td>1.272788</td>\n",
       "      <td>2.83</td>\n",
       "      <td>15607.0</td>\n",
       "    </tr>\n",
       "    <tr>\n",
       "      <td>2</td>\n",
       "      <td>서    구</td>\n",
       "      <td>13.0</td>\n",
       "      <td>52819.0</td>\n",
       "      <td>110576</td>\n",
       "      <td>54053</td>\n",
       "      <td>56523</td>\n",
       "      <td>3.186393</td>\n",
       "      <td>13.98</td>\n",
       "      <td>7910.0</td>\n",
       "    </tr>\n",
       "  </tbody>\n",
       "</table>\n",
       "</div>"
      ],
      "text/plain": [
       "     구  분  읍·면·\\n동 수      세   대  인   구(명)   남자(인구)   여자(인구)  \\\n",
       "0   부산광역시      206.0  1496361.0   3470256  1706084  1764172   \n",
       "1  중    구        9.0    23153.0     44169    21959    22210   \n",
       "2  서    구       13.0    52819.0    110576    54053    56523   \n",
       "\n",
       "   시전체\\n인구에 대한\\n구성비(%)  면적\\n(㎢)  인구밀도\\n(명/㎢)  \n",
       "0           100.000000   769.94       4507.0  \n",
       "1             1.272788     2.83      15607.0  \n",
       "2             3.186393    13.98       7910.0  "
      ]
     },
     "execution_count": 22,
     "metadata": {},
     "output_type": "execute_result"
    }
   ],
   "source": [
    "subset = df1.iloc[:, :]\n",
    "subset.head(3)"
   ]
  }
 ],
 "metadata": {
  "kernelspec": {
   "display_name": "Python 3",
   "language": "python",
   "name": "python3"
  },
  "language_info": {
   "codemirror_mode": {
    "name": "ipython",
    "version": 3
   },
   "file_extension": ".py",
   "mimetype": "text/x-python",
   "name": "python",
   "nbconvert_exporter": "python",
   "pygments_lexer": "ipython3",
   "version": "3.7.4"
  }
 },
 "nbformat": 4,
 "nbformat_minor": 4
}
