{
 "cells": [
  {
   "cell_type": "code",
   "execution_count": 14,
   "metadata": {},
   "outputs": [],
   "source": [
    "import pandas as pd\n",
    "import numpy as np"
   ]
  },
  {
   "cell_type": "markdown",
   "metadata": {},
   "source": [
    "1. [x]  년도별 카페 수\n",
    "1. [x]  년도별 인구 수\n",
    "1. [x]  년도별 인구당 카페수\n",
    "1. [ ]  년도별 면적당 카페수\n",
    "1. [ ]  년도별 인구밀도"
   ]
  },
  {
   "cell_type": "code",
   "execution_count": 16,
   "metadata": {},
   "outputs": [],
   "source": [
    "ori_df = pd.read_csv('./Data/Processed_data/korea_shp_dist_def.csv', encoding = 'utf-8')"
   ]
  },
  {
   "cell_type": "code",
   "execution_count": 30,
   "metadata": {},
   "outputs": [],
   "source": [
    "# ori_df.info()\n",
    "# ori_df.head(1)"
   ]
  },
  {
   "cell_type": "code",
   "execution_count": 21,
   "metadata": {},
   "outputs": [],
   "source": [
    "year_count = ori_df.pivot_table(index = ['year'], values = ['상호명'], aggfunc = 'count').reset_index()"
   ]
  },
  {
   "cell_type": "code",
   "execution_count": 23,
   "metadata": {},
   "outputs": [
    {
     "name": "stdout",
     "output_type": "stream",
     "text": [
      "<class 'pandas.core.frame.DataFrame'>\n",
      "RangeIndex: 4 entries, 0 to 3\n",
      "Data columns (total 2 columns):\n",
      "year    4 non-null int64\n",
      "상호명     4 non-null int64\n",
      "dtypes: int64(2)\n",
      "memory usage: 192.0 bytes\n"
     ]
    },
    {
     "data": {
      "text/html": [
       "<div>\n",
       "<style scoped>\n",
       "    .dataframe tbody tr th:only-of-type {\n",
       "        vertical-align: middle;\n",
       "    }\n",
       "\n",
       "    .dataframe tbody tr th {\n",
       "        vertical-align: top;\n",
       "    }\n",
       "\n",
       "    .dataframe thead th {\n",
       "        text-align: right;\n",
       "    }\n",
       "</style>\n",
       "<table border=\"1\" class=\"dataframe\">\n",
       "  <thead>\n",
       "    <tr style=\"text-align: right;\">\n",
       "      <th></th>\n",
       "      <th>year</th>\n",
       "      <th>상호명</th>\n",
       "    </tr>\n",
       "  </thead>\n",
       "  <tbody>\n",
       "    <tr>\n",
       "      <td>0</td>\n",
       "      <td>2016</td>\n",
       "      <td>57855</td>\n",
       "    </tr>\n",
       "    <tr>\n",
       "      <td>1</td>\n",
       "      <td>2017</td>\n",
       "      <td>76477</td>\n",
       "    </tr>\n",
       "    <tr>\n",
       "      <td>2</td>\n",
       "      <td>2018</td>\n",
       "      <td>87370</td>\n",
       "    </tr>\n",
       "    <tr>\n",
       "      <td>3</td>\n",
       "      <td>2019</td>\n",
       "      <td>96104</td>\n",
       "    </tr>\n",
       "  </tbody>\n",
       "</table>\n",
       "</div>"
      ],
      "text/plain": [
       "   year    상호명\n",
       "0  2016  57855\n",
       "1  2017  76477\n",
       "2  2018  87370\n",
       "3  2019  96104"
      ]
     },
     "execution_count": 23,
     "metadata": {},
     "output_type": "execute_result"
    }
   ],
   "source": [
    "year_count.info()\n",
    "year_count.head()"
   ]
  },
  {
   "cell_type": "code",
   "execution_count": 25,
   "metadata": {},
   "outputs": [],
   "source": [
    "year_count.to_csv('./data/Cleansed_data/cafe_year_count.csv', encoding = 'utf-8', index = False)"
   ]
  },
  {
   "cell_type": "code",
   "execution_count": 56,
   "metadata": {},
   "outputs": [],
   "source": [
    "year_dist = ori_df.pivot_table(index = ['시군구명'], columns = ['year'], values = ['상호명'], aggfunc = 'count').reset_index()"
   ]
  },
  {
   "cell_type": "markdown",
   "metadata": {},
   "source": [
    "### 전국 시군구별. 멀티인덱스 바꾸기"
   ]
  },
  {
   "cell_type": "code",
   "execution_count": 57,
   "metadata": {},
   "outputs": [
    {
     "data": {
      "text/plain": [
       "MultiIndex([('시군구명',   ''),\n",
       "            ( '상호명', 2016),\n",
       "            ( '상호명', 2017),\n",
       "            ( '상호명', 2018),\n",
       "            ( '상호명', 2019)],\n",
       "           names=[None, 'year'])"
      ]
     },
     "execution_count": 57,
     "metadata": {},
     "output_type": "execute_result"
    }
   ],
   "source": [
    "year_dist.columns"
   ]
  },
  {
   "cell_type": "code",
   "execution_count": 31,
   "metadata": {},
   "outputs": [],
   "source": [
    "newcol = ['시군구명', '2016', '2017', '2018', '2019']"
   ]
  },
  {
   "cell_type": "code",
   "execution_count": 32,
   "metadata": {},
   "outputs": [
    {
     "data": {
      "text/plain": [
       "Index(['시군구명', '2016', '2017', '2018', '2019'], dtype='object')"
      ]
     },
     "execution_count": 32,
     "metadata": {},
     "output_type": "execute_result"
    }
   ],
   "source": [
    "year_dist.columns = newcol\n",
    "year_dist.columns"
   ]
  },
  {
   "cell_type": "code",
   "execution_count": 33,
   "metadata": {},
   "outputs": [],
   "source": [
    "year_dist.to_csv('./data/Cleansed_data/cafe_year_dist.csv', encoding = 'utf-8', index = False)"
   ]
  },
  {
   "cell_type": "code",
   "execution_count": null,
   "metadata": {},
   "outputs": [],
   "source": [
    "# 해석이 중요하다. correlation coefficient가 크다는 말 => 연도별 데이터 분포가 유사한 분포를 가진다는 의미\n",
    "# correlation coefficient가 줄어든다는 말 => 연도별 데이터 분포 유사도가 줄어든다는 말 => 구군별 카페의 수의 분포가 변화한다 => 카페 상권의 이동의 지표로 이용 할 수 있다."
   ]
  },
  {
   "cell_type": "code",
   "execution_count": 35,
   "metadata": {},
   "outputs": [
    {
     "data": {
      "text/html": [
       "<div>\n",
       "<style scoped>\n",
       "    .dataframe tbody tr th:only-of-type {\n",
       "        vertical-align: middle;\n",
       "    }\n",
       "\n",
       "    .dataframe tbody tr th {\n",
       "        vertical-align: top;\n",
       "    }\n",
       "\n",
       "    .dataframe thead th {\n",
       "        text-align: right;\n",
       "    }\n",
       "</style>\n",
       "<table border=\"1\" class=\"dataframe\">\n",
       "  <thead>\n",
       "    <tr style=\"text-align: right;\">\n",
       "      <th></th>\n",
       "      <th>2016</th>\n",
       "      <th>2017</th>\n",
       "      <th>2018</th>\n",
       "      <th>2019</th>\n",
       "    </tr>\n",
       "  </thead>\n",
       "  <tbody>\n",
       "    <tr>\n",
       "      <td>2016</td>\n",
       "      <td>1.000000</td>\n",
       "      <td>0.990628</td>\n",
       "      <td>0.989645</td>\n",
       "      <td>0.989931</td>\n",
       "    </tr>\n",
       "    <tr>\n",
       "      <td>2017</td>\n",
       "      <td>0.990628</td>\n",
       "      <td>1.000000</td>\n",
       "      <td>0.996581</td>\n",
       "      <td>0.991713</td>\n",
       "    </tr>\n",
       "    <tr>\n",
       "      <td>2018</td>\n",
       "      <td>0.989645</td>\n",
       "      <td>0.996581</td>\n",
       "      <td>1.000000</td>\n",
       "      <td>0.994936</td>\n",
       "    </tr>\n",
       "    <tr>\n",
       "      <td>2019</td>\n",
       "      <td>0.989931</td>\n",
       "      <td>0.991713</td>\n",
       "      <td>0.994936</td>\n",
       "      <td>1.000000</td>\n",
       "    </tr>\n",
       "  </tbody>\n",
       "</table>\n",
       "</div>"
      ],
      "text/plain": [
       "          2016      2017      2018      2019\n",
       "2016  1.000000  0.990628  0.989645  0.989931\n",
       "2017  0.990628  1.000000  0.996581  0.991713\n",
       "2018  0.989645  0.996581  1.000000  0.994936\n",
       "2019  0.989931  0.991713  0.994936  1.000000"
      ]
     },
     "execution_count": 35,
     "metadata": {},
     "output_type": "execute_result"
    }
   ],
   "source": [
    "year_dist_corr = year_dist.corr()\n",
    "year_dist_corr"
   ]
  },
  {
   "cell_type": "code",
   "execution_count": 37,
   "metadata": {},
   "outputs": [],
   "source": [
    "year_dist_corr.to_csv('./data/Cleansed_data/cafe_year_dist_corr.csv', encoding = 'utf-8')"
   ]
  },
  {
   "cell_type": "markdown",
   "metadata": {},
   "source": [
    "## 부산 시군구별 "
   ]
  },
  {
   "cell_type": "code",
   "execution_count": 40,
   "metadata": {},
   "outputs": [],
   "source": [
    "busan_cafe_all = korea_shp_dist_def[korea_shp_dist_def['시도명'] == '부산광역시']"
   ]
  },
  {
   "cell_type": "code",
   "execution_count": 41,
   "metadata": {},
   "outputs": [],
   "source": [
    "busan_cafe_year_gugunname = busan_cafe_all.pivot_table(index = ['시군구명'], columns = ['year'], values = ['상호명'], aggfunc = 'count').reset_index()"
   ]
  },
  {
   "cell_type": "code",
   "execution_count": 42,
   "metadata": {},
   "outputs": [],
   "source": [
    "newcol = ['시군구명', '2016', '2017', '2018', '2019']"
   ]
  },
  {
   "cell_type": "code",
   "execution_count": 46,
   "metadata": {},
   "outputs": [
    {
     "data": {
      "text/html": [
       "<div>\n",
       "<style scoped>\n",
       "    .dataframe tbody tr th:only-of-type {\n",
       "        vertical-align: middle;\n",
       "    }\n",
       "\n",
       "    .dataframe tbody tr th {\n",
       "        vertical-align: top;\n",
       "    }\n",
       "\n",
       "    .dataframe thead th {\n",
       "        text-align: right;\n",
       "    }\n",
       "</style>\n",
       "<table border=\"1\" class=\"dataframe\">\n",
       "  <thead>\n",
       "    <tr style=\"text-align: right;\">\n",
       "      <th></th>\n",
       "      <th>시군구명</th>\n",
       "      <th>2016</th>\n",
       "      <th>2017</th>\n",
       "      <th>2018</th>\n",
       "      <th>2019</th>\n",
       "    </tr>\n",
       "  </thead>\n",
       "  <tbody>\n",
       "    <tr>\n",
       "      <td>0</td>\n",
       "      <td>강서구</td>\n",
       "      <td>66</td>\n",
       "      <td>144</td>\n",
       "      <td>184</td>\n",
       "      <td>195</td>\n",
       "    </tr>\n",
       "    <tr>\n",
       "      <td>1</td>\n",
       "      <td>금정구</td>\n",
       "      <td>246</td>\n",
       "      <td>289</td>\n",
       "      <td>370</td>\n",
       "      <td>390</td>\n",
       "    </tr>\n",
       "  </tbody>\n",
       "</table>\n",
       "</div>"
      ],
      "text/plain": [
       "  시군구명  2016  2017  2018  2019\n",
       "0  강서구    66   144   184   195\n",
       "1  금정구   246   289   370   390"
      ]
     },
     "execution_count": 46,
     "metadata": {},
     "output_type": "execute_result"
    }
   ],
   "source": [
    "busan_cafe_year_gugunname.columns = newcol\n",
    "busan_cafe_year_gugunname.head(2)"
   ]
  },
  {
   "cell_type": "code",
   "execution_count": 44,
   "metadata": {},
   "outputs": [],
   "source": [
    "busan_cafe_year_gugunname.to_csv('./data/Cleansed_data/busan_cafe_year_dist.csv', encoding = 'utf-8', index = False)"
   ]
  },
  {
   "cell_type": "code",
   "execution_count": null,
   "metadata": {},
   "outputs": [],
   "source": []
  },
  {
   "cell_type": "code",
   "execution_count": null,
   "metadata": {},
   "outputs": [],
   "source": []
  },
  {
   "cell_type": "code",
   "execution_count": null,
   "metadata": {},
   "outputs": [],
   "source": []
  },
  {
   "cell_type": "code",
   "execution_count": null,
   "metadata": {},
   "outputs": [],
   "source": []
  },
  {
   "cell_type": "code",
   "execution_count": null,
   "metadata": {},
   "outputs": [],
   "source": []
  },
  {
   "cell_type": "code",
   "execution_count": null,
   "metadata": {},
   "outputs": [],
   "source": []
  },
  {
   "cell_type": "code",
   "execution_count": null,
   "metadata": {},
   "outputs": [],
   "source": []
  },
  {
   "cell_type": "code",
   "execution_count": null,
   "metadata": {},
   "outputs": [],
   "source": []
  },
  {
   "cell_type": "code",
   "execution_count": null,
   "metadata": {},
   "outputs": [],
   "source": []
  },
  {
   "cell_type": "code",
   "execution_count": null,
   "metadata": {},
   "outputs": [],
   "source": []
  },
  {
   "cell_type": "code",
   "execution_count": null,
   "metadata": {},
   "outputs": [],
   "source": []
  },
  {
   "cell_type": "code",
   "execution_count": null,
   "metadata": {},
   "outputs": [],
   "source": []
  },
  {
   "cell_type": "code",
   "execution_count": null,
   "metadata": {},
   "outputs": [],
   "source": []
  },
  {
   "cell_type": "code",
   "execution_count": null,
   "metadata": {},
   "outputs": [],
   "source": []
  },
  {
   "cell_type": "code",
   "execution_count": null,
   "metadata": {},
   "outputs": [],
   "source": []
  },
  {
   "cell_type": "code",
   "execution_count": null,
   "metadata": {},
   "outputs": [],
   "source": []
  },
  {
   "cell_type": "code",
   "execution_count": null,
   "metadata": {},
   "outputs": [],
   "source": []
  },
  {
   "cell_type": "code",
   "execution_count": null,
   "metadata": {},
   "outputs": [],
   "source": []
  },
  {
   "cell_type": "code",
   "execution_count": null,
   "metadata": {},
   "outputs": [],
   "source": []
  },
  {
   "cell_type": "code",
   "execution_count": null,
   "metadata": {},
   "outputs": [],
   "source": []
  },
  {
   "cell_type": "markdown",
   "metadata": {},
   "source": [
    "### 부산 구군별 인구수, 면적"
   ]
  },
  {
   "cell_type": "code",
   "execution_count": 112,
   "metadata": {},
   "outputs": [],
   "source": [
    "busan_pop_land = pd.read_csv('./data/Processed_data/busan_pop_land.csv', encoding = 'euc-kr')"
   ]
  },
  {
   "cell_type": "code",
   "execution_count": 113,
   "metadata": {},
   "outputs": [
    {
     "data": {
      "text/html": [
       "<div>\n",
       "<style scoped>\n",
       "    .dataframe tbody tr th:only-of-type {\n",
       "        vertical-align: middle;\n",
       "    }\n",
       "\n",
       "    .dataframe tbody tr th {\n",
       "        vertical-align: top;\n",
       "    }\n",
       "\n",
       "    .dataframe thead th {\n",
       "        text-align: right;\n",
       "    }\n",
       "</style>\n",
       "<table border=\"1\" class=\"dataframe\">\n",
       "  <thead>\n",
       "    <tr style=\"text-align: right;\">\n",
       "      <th></th>\n",
       "      <th>구  분</th>\n",
       "      <th>읍·면·\\n동 수</th>\n",
       "      <th>세   대</th>\n",
       "      <th>인   구(명)</th>\n",
       "      <th>남자(인구)</th>\n",
       "      <th>여자(인구)</th>\n",
       "      <th>시전체\\n인구에 대한\\n구성비(%)</th>\n",
       "      <th>면적\\n(㎢)</th>\n",
       "      <th>인구밀도\\n(명/㎢)</th>\n",
       "    </tr>\n",
       "  </thead>\n",
       "  <tbody>\n",
       "    <tr>\n",
       "      <td>0</td>\n",
       "      <td>부산광역시</td>\n",
       "      <td>206.0</td>\n",
       "      <td>1496361.0</td>\n",
       "      <td>3470256</td>\n",
       "      <td>1706084</td>\n",
       "      <td>1764172</td>\n",
       "      <td>100.000000</td>\n",
       "      <td>769.94</td>\n",
       "      <td>4507.0</td>\n",
       "    </tr>\n",
       "    <tr>\n",
       "      <td>1</td>\n",
       "      <td>중    구</td>\n",
       "      <td>9.0</td>\n",
       "      <td>23153.0</td>\n",
       "      <td>44169</td>\n",
       "      <td>21959</td>\n",
       "      <td>22210</td>\n",
       "      <td>1.272788</td>\n",
       "      <td>2.83</td>\n",
       "      <td>15607.0</td>\n",
       "    </tr>\n",
       "    <tr>\n",
       "      <td>2</td>\n",
       "      <td>서    구</td>\n",
       "      <td>13.0</td>\n",
       "      <td>52819.0</td>\n",
       "      <td>110576</td>\n",
       "      <td>54053</td>\n",
       "      <td>56523</td>\n",
       "      <td>3.186393</td>\n",
       "      <td>13.98</td>\n",
       "      <td>7910.0</td>\n",
       "    </tr>\n",
       "  </tbody>\n",
       "</table>\n",
       "</div>"
      ],
      "text/plain": [
       "     구  분  읍·면·\\n동 수      세   대  인   구(명)   남자(인구)   여자(인구)  \\\n",
       "0   부산광역시      206.0  1496361.0   3470256  1706084  1764172   \n",
       "1  중    구        9.0    23153.0     44169    21959    22210   \n",
       "2  서    구       13.0    52819.0    110576    54053    56523   \n",
       "\n",
       "   시전체\\n인구에 대한\\n구성비(%)  면적\\n(㎢)  인구밀도\\n(명/㎢)  \n",
       "0           100.000000   769.94       4507.0  \n",
       "1             1.272788     2.83      15607.0  \n",
       "2             3.186393    13.98       7910.0  "
      ]
     },
     "execution_count": 113,
     "metadata": {},
     "output_type": "execute_result"
    }
   ],
   "source": [
    "busan_pop_land.head(3)"
   ]
  },
  {
   "cell_type": "code",
   "execution_count": 114,
   "metadata": {},
   "outputs": [
    {
     "data": {
      "text/plain": [
       "Index(['구  분', '읍·면·\\n동 수', '세   대', '인   구(명)', '남자(인구)', '여자(인구)',\n",
       "       '시전체\\n인구에 대한\\n구성비(%)', '면적\\n(㎢)', '인구밀도\\n(명/㎢)'],\n",
       "      dtype='object')"
      ]
     },
     "execution_count": 114,
     "metadata": {},
     "output_type": "execute_result"
    }
   ],
   "source": [
    "busan_pop_land.columns"
   ]
  },
  {
   "cell_type": "code",
   "execution_count": 115,
   "metadata": {},
   "outputs": [],
   "source": [
    "newcol = []\n",
    "for i in busan_pop_land.columns:\n",
    "    newcol.append(i.replace(' ','').replace('\\n', ''))"
   ]
  },
  {
   "cell_type": "code",
   "execution_count": 116,
   "metadata": {},
   "outputs": [
    {
     "data": {
      "text/plain": [
       "['구분',\n",
       " '읍·면·동수',\n",
       " '세대',\n",
       " '인구(명)',\n",
       " '남자(인구)',\n",
       " '여자(인구)',\n",
       " '시전체인구에대한구성비(%)',\n",
       " '면적(㎢)',\n",
       " '인구밀도(명/㎢)']"
      ]
     },
     "execution_count": 116,
     "metadata": {},
     "output_type": "execute_result"
    }
   ],
   "source": [
    "newcol"
   ]
  },
  {
   "cell_type": "code",
   "execution_count": 117,
   "metadata": {},
   "outputs": [
    {
     "data": {
      "text/html": [
       "<div>\n",
       "<style scoped>\n",
       "    .dataframe tbody tr th:only-of-type {\n",
       "        vertical-align: middle;\n",
       "    }\n",
       "\n",
       "    .dataframe tbody tr th {\n",
       "        vertical-align: top;\n",
       "    }\n",
       "\n",
       "    .dataframe thead th {\n",
       "        text-align: right;\n",
       "    }\n",
       "</style>\n",
       "<table border=\"1\" class=\"dataframe\">\n",
       "  <thead>\n",
       "    <tr style=\"text-align: right;\">\n",
       "      <th></th>\n",
       "      <th>구분</th>\n",
       "      <th>읍·면·동수</th>\n",
       "      <th>세대</th>\n",
       "      <th>인구(명)</th>\n",
       "      <th>남자(인구)</th>\n",
       "      <th>여자(인구)</th>\n",
       "      <th>시전체인구에대한구성비(%)</th>\n",
       "      <th>면적(㎢)</th>\n",
       "      <th>인구밀도(명/㎢)</th>\n",
       "    </tr>\n",
       "  </thead>\n",
       "  <tbody>\n",
       "    <tr>\n",
       "      <td>0</td>\n",
       "      <td>부산광역시</td>\n",
       "      <td>206.0</td>\n",
       "      <td>1496361.0</td>\n",
       "      <td>3470256</td>\n",
       "      <td>1706084</td>\n",
       "      <td>1764172</td>\n",
       "      <td>100.000000</td>\n",
       "      <td>769.94</td>\n",
       "      <td>4507.0</td>\n",
       "    </tr>\n",
       "    <tr>\n",
       "      <td>1</td>\n",
       "      <td>중    구</td>\n",
       "      <td>9.0</td>\n",
       "      <td>23153.0</td>\n",
       "      <td>44169</td>\n",
       "      <td>21959</td>\n",
       "      <td>22210</td>\n",
       "      <td>1.272788</td>\n",
       "      <td>2.83</td>\n",
       "      <td>15607.0</td>\n",
       "    </tr>\n",
       "  </tbody>\n",
       "</table>\n",
       "</div>"
      ],
      "text/plain": [
       "       구분  읍·면·동수         세대    인구(명)   남자(인구)   여자(인구)  시전체인구에대한구성비(%)  \\\n",
       "0   부산광역시   206.0  1496361.0  3470256  1706084  1764172      100.000000   \n",
       "1  중    구     9.0    23153.0    44169    21959    22210        1.272788   \n",
       "\n",
       "    면적(㎢)  인구밀도(명/㎢)  \n",
       "0  769.94     4507.0  \n",
       "1    2.83    15607.0  "
      ]
     },
     "execution_count": 117,
     "metadata": {},
     "output_type": "execute_result"
    }
   ],
   "source": [
    "busan_pop_land.columns = newcol\n",
    "busan_pop_land.head(2)"
   ]
  },
  {
   "cell_type": "code",
   "execution_count": 118,
   "metadata": {},
   "outputs": [],
   "source": [
    "busan_pop_land.drop([0], axis = 0, inplace = True)"
   ]
  },
  {
   "cell_type": "code",
   "execution_count": 123,
   "metadata": {},
   "outputs": [
    {
     "data": {
      "text/html": [
       "<div>\n",
       "<style scoped>\n",
       "    .dataframe tbody tr th:only-of-type {\n",
       "        vertical-align: middle;\n",
       "    }\n",
       "\n",
       "    .dataframe tbody tr th {\n",
       "        vertical-align: top;\n",
       "    }\n",
       "\n",
       "    .dataframe thead th {\n",
       "        text-align: right;\n",
       "    }\n",
       "</style>\n",
       "<table border=\"1\" class=\"dataframe\">\n",
       "  <thead>\n",
       "    <tr style=\"text-align: right;\">\n",
       "      <th></th>\n",
       "      <th>시군구명</th>\n",
       "      <th>2016</th>\n",
       "      <th>2017</th>\n",
       "      <th>2018</th>\n",
       "      <th>2019</th>\n",
       "    </tr>\n",
       "  </thead>\n",
       "  <tbody>\n",
       "    <tr>\n",
       "      <td>0</td>\n",
       "      <td>강서구</td>\n",
       "      <td>66</td>\n",
       "      <td>144</td>\n",
       "      <td>184</td>\n",
       "      <td>195</td>\n",
       "    </tr>\n",
       "    <tr>\n",
       "      <td>1</td>\n",
       "      <td>금정구</td>\n",
       "      <td>246</td>\n",
       "      <td>289</td>\n",
       "      <td>370</td>\n",
       "      <td>390</td>\n",
       "    </tr>\n",
       "    <tr>\n",
       "      <td>2</td>\n",
       "      <td>기장군</td>\n",
       "      <td>165</td>\n",
       "      <td>227</td>\n",
       "      <td>290</td>\n",
       "      <td>305</td>\n",
       "    </tr>\n",
       "    <tr>\n",
       "      <td>3</td>\n",
       "      <td>남구</td>\n",
       "      <td>213</td>\n",
       "      <td>258</td>\n",
       "      <td>291</td>\n",
       "      <td>323</td>\n",
       "    </tr>\n",
       "    <tr>\n",
       "      <td>4</td>\n",
       "      <td>동구</td>\n",
       "      <td>132</td>\n",
       "      <td>155</td>\n",
       "      <td>183</td>\n",
       "      <td>203</td>\n",
       "    </tr>\n",
       "    <tr>\n",
       "      <td>5</td>\n",
       "      <td>동래구</td>\n",
       "      <td>247</td>\n",
       "      <td>257</td>\n",
       "      <td>320</td>\n",
       "      <td>338</td>\n",
       "    </tr>\n",
       "    <tr>\n",
       "      <td>6</td>\n",
       "      <td>부산진구</td>\n",
       "      <td>513</td>\n",
       "      <td>525</td>\n",
       "      <td>605</td>\n",
       "      <td>629</td>\n",
       "    </tr>\n",
       "    <tr>\n",
       "      <td>7</td>\n",
       "      <td>북구</td>\n",
       "      <td>154</td>\n",
       "      <td>174</td>\n",
       "      <td>216</td>\n",
       "      <td>219</td>\n",
       "    </tr>\n",
       "    <tr>\n",
       "      <td>8</td>\n",
       "      <td>사상구</td>\n",
       "      <td>226</td>\n",
       "      <td>211</td>\n",
       "      <td>245</td>\n",
       "      <td>253</td>\n",
       "    </tr>\n",
       "    <tr>\n",
       "      <td>9</td>\n",
       "      <td>사하구</td>\n",
       "      <td>189</td>\n",
       "      <td>224</td>\n",
       "      <td>263</td>\n",
       "      <td>277</td>\n",
       "    </tr>\n",
       "    <tr>\n",
       "      <td>10</td>\n",
       "      <td>서구</td>\n",
       "      <td>97</td>\n",
       "      <td>118</td>\n",
       "      <td>143</td>\n",
       "      <td>151</td>\n",
       "    </tr>\n",
       "    <tr>\n",
       "      <td>11</td>\n",
       "      <td>수영구</td>\n",
       "      <td>179</td>\n",
       "      <td>212</td>\n",
       "      <td>275</td>\n",
       "      <td>323</td>\n",
       "    </tr>\n",
       "    <tr>\n",
       "      <td>12</td>\n",
       "      <td>연제구</td>\n",
       "      <td>154</td>\n",
       "      <td>202</td>\n",
       "      <td>235</td>\n",
       "      <td>246</td>\n",
       "    </tr>\n",
       "    <tr>\n",
       "      <td>13</td>\n",
       "      <td>영도구</td>\n",
       "      <td>94</td>\n",
       "      <td>131</td>\n",
       "      <td>152</td>\n",
       "      <td>156</td>\n",
       "    </tr>\n",
       "    <tr>\n",
       "      <td>14</td>\n",
       "      <td>중구</td>\n",
       "      <td>236</td>\n",
       "      <td>275</td>\n",
       "      <td>301</td>\n",
       "      <td>315</td>\n",
       "    </tr>\n",
       "    <tr>\n",
       "      <td>15</td>\n",
       "      <td>해운대구</td>\n",
       "      <td>380</td>\n",
       "      <td>437</td>\n",
       "      <td>538</td>\n",
       "      <td>592</td>\n",
       "    </tr>\n",
       "  </tbody>\n",
       "</table>\n",
       "</div>"
      ],
      "text/plain": [
       "    시군구명  2016  2017  2018  2019\n",
       "0    강서구    66   144   184   195\n",
       "1    금정구   246   289   370   390\n",
       "2    기장군   165   227   290   305\n",
       "3     남구   213   258   291   323\n",
       "4     동구   132   155   183   203\n",
       "5    동래구   247   257   320   338\n",
       "6   부산진구   513   525   605   629\n",
       "7     북구   154   174   216   219\n",
       "8    사상구   226   211   245   253\n",
       "9    사하구   189   224   263   277\n",
       "10    서구    97   118   143   151\n",
       "11   수영구   179   212   275   323\n",
       "12   연제구   154   202   235   246\n",
       "13   영도구    94   131   152   156\n",
       "14    중구   236   275   301   315\n",
       "15  해운대구   380   437   538   592"
      ]
     },
     "execution_count": 123,
     "metadata": {},
     "output_type": "execute_result"
    }
   ],
   "source": [
    "busan_cafe_year_gugunname"
   ]
  },
  {
   "cell_type": "code",
   "execution_count": 124,
   "metadata": {},
   "outputs": [
    {
     "data": {
      "text/html": [
       "<div>\n",
       "<style scoped>\n",
       "    .dataframe tbody tr th:only-of-type {\n",
       "        vertical-align: middle;\n",
       "    }\n",
       "\n",
       "    .dataframe tbody tr th {\n",
       "        vertical-align: top;\n",
       "    }\n",
       "\n",
       "    .dataframe thead th {\n",
       "        text-align: right;\n",
       "    }\n",
       "</style>\n",
       "<table border=\"1\" class=\"dataframe\">\n",
       "  <thead>\n",
       "    <tr style=\"text-align: right;\">\n",
       "      <th></th>\n",
       "      <th>구분</th>\n",
       "      <th>읍·면·동수</th>\n",
       "      <th>세대</th>\n",
       "      <th>인구(명)</th>\n",
       "      <th>남자(인구)</th>\n",
       "      <th>여자(인구)</th>\n",
       "      <th>시전체인구에대한구성비(%)</th>\n",
       "      <th>면적(㎢)</th>\n",
       "      <th>인구밀도(명/㎢)</th>\n",
       "    </tr>\n",
       "  </thead>\n",
       "  <tbody>\n",
       "    <tr>\n",
       "      <td>1</td>\n",
       "      <td>중    구</td>\n",
       "      <td>9.0</td>\n",
       "      <td>23153.0</td>\n",
       "      <td>44169</td>\n",
       "      <td>21959</td>\n",
       "      <td>22210</td>\n",
       "      <td>1.272788</td>\n",
       "      <td>2.83</td>\n",
       "      <td>15607.0</td>\n",
       "    </tr>\n",
       "    <tr>\n",
       "      <td>2</td>\n",
       "      <td>서    구</td>\n",
       "      <td>13.0</td>\n",
       "      <td>52819.0</td>\n",
       "      <td>110576</td>\n",
       "      <td>54053</td>\n",
       "      <td>56523</td>\n",
       "      <td>3.186393</td>\n",
       "      <td>13.98</td>\n",
       "      <td>7910.0</td>\n",
       "    </tr>\n",
       "    <tr>\n",
       "      <td>3</td>\n",
       "      <td>동    구</td>\n",
       "      <td>12.0</td>\n",
       "      <td>44473.0</td>\n",
       "      <td>90245</td>\n",
       "      <td>44350</td>\n",
       "      <td>45895</td>\n",
       "      <td>2.600529</td>\n",
       "      <td>9.74</td>\n",
       "      <td>9265.0</td>\n",
       "    </tr>\n",
       "    <tr>\n",
       "      <td>4</td>\n",
       "      <td>영 도 구</td>\n",
       "      <td>11.0</td>\n",
       "      <td>54909.0</td>\n",
       "      <td>118962</td>\n",
       "      <td>58960</td>\n",
       "      <td>60002</td>\n",
       "      <td>3.428047</td>\n",
       "      <td>14.20</td>\n",
       "      <td>8378.0</td>\n",
       "    </tr>\n",
       "    <tr>\n",
       "      <td>5</td>\n",
       "      <td>부산진구</td>\n",
       "      <td>20.0</td>\n",
       "      <td>166660.0</td>\n",
       "      <td>361542</td>\n",
       "      <td>175017</td>\n",
       "      <td>186525</td>\n",
       "      <td>10.418309</td>\n",
       "      <td>29.67</td>\n",
       "      <td>12185.0</td>\n",
       "    </tr>\n",
       "    <tr>\n",
       "      <td>6</td>\n",
       "      <td>동 래 구</td>\n",
       "      <td>13.0</td>\n",
       "      <td>111867.0</td>\n",
       "      <td>272169</td>\n",
       "      <td>132577</td>\n",
       "      <td>139592</td>\n",
       "      <td>7.842908</td>\n",
       "      <td>16.63</td>\n",
       "      <td>16366.0</td>\n",
       "    </tr>\n",
       "    <tr>\n",
       "      <td>7</td>\n",
       "      <td>남    구</td>\n",
       "      <td>17.0</td>\n",
       "      <td>117518.0</td>\n",
       "      <td>281507</td>\n",
       "      <td>138038</td>\n",
       "      <td>143469</td>\n",
       "      <td>8.111995</td>\n",
       "      <td>26.81</td>\n",
       "      <td>10500.0</td>\n",
       "    </tr>\n",
       "    <tr>\n",
       "      <td>8</td>\n",
       "      <td>북    구</td>\n",
       "      <td>13.0</td>\n",
       "      <td>120061.0</td>\n",
       "      <td>293926</td>\n",
       "      <td>145587</td>\n",
       "      <td>148339</td>\n",
       "      <td>8.469865</td>\n",
       "      <td>39.37</td>\n",
       "      <td>7466.0</td>\n",
       "    </tr>\n",
       "    <tr>\n",
       "      <td>9</td>\n",
       "      <td>해운대구</td>\n",
       "      <td>18.0</td>\n",
       "      <td>168454.0</td>\n",
       "      <td>411346</td>\n",
       "      <td>198530</td>\n",
       "      <td>212816</td>\n",
       "      <td>11.853477</td>\n",
       "      <td>51.47</td>\n",
       "      <td>7992.0</td>\n",
       "    </tr>\n",
       "    <tr>\n",
       "      <td>10</td>\n",
       "      <td>사 하 구</td>\n",
       "      <td>16.0</td>\n",
       "      <td>138822.0</td>\n",
       "      <td>326902</td>\n",
       "      <td>163575</td>\n",
       "      <td>163327</td>\n",
       "      <td>9.420112</td>\n",
       "      <td>41.77</td>\n",
       "      <td>7826.0</td>\n",
       "    </tr>\n",
       "    <tr>\n",
       "      <td>11</td>\n",
       "      <td>금 정 구</td>\n",
       "      <td>17.0</td>\n",
       "      <td>106984.0</td>\n",
       "      <td>244413</td>\n",
       "      <td>119219</td>\n",
       "      <td>125194</td>\n",
       "      <td>7.043083</td>\n",
       "      <td>65.28</td>\n",
       "      <td>3744.0</td>\n",
       "    </tr>\n",
       "    <tr>\n",
       "      <td>12</td>\n",
       "      <td>강 서 구</td>\n",
       "      <td>8.0</td>\n",
       "      <td>53242.0</td>\n",
       "      <td>134211</td>\n",
       "      <td>71107</td>\n",
       "      <td>63104</td>\n",
       "      <td>3.867467</td>\n",
       "      <td>181.49</td>\n",
       "      <td>739.0</td>\n",
       "    </tr>\n",
       "    <tr>\n",
       "      <td>13</td>\n",
       "      <td>연 제 구</td>\n",
       "      <td>12.0</td>\n",
       "      <td>90131.0</td>\n",
       "      <td>210584</td>\n",
       "      <td>101767</td>\n",
       "      <td>108817</td>\n",
       "      <td>6.068255</td>\n",
       "      <td>12.10</td>\n",
       "      <td>17404.0</td>\n",
       "    </tr>\n",
       "    <tr>\n",
       "      <td>14</td>\n",
       "      <td>수 영 구</td>\n",
       "      <td>10.0</td>\n",
       "      <td>81385.0</td>\n",
       "      <td>178071</td>\n",
       "      <td>84518</td>\n",
       "      <td>93553</td>\n",
       "      <td>5.131351</td>\n",
       "      <td>10.21</td>\n",
       "      <td>17441.0</td>\n",
       "    </tr>\n",
       "    <tr>\n",
       "      <td>15</td>\n",
       "      <td>사 상 구</td>\n",
       "      <td>12.0</td>\n",
       "      <td>96780.0</td>\n",
       "      <td>224455</td>\n",
       "      <td>113607</td>\n",
       "      <td>110848</td>\n",
       "      <td>6.467967</td>\n",
       "      <td>36.09</td>\n",
       "      <td>6219.0</td>\n",
       "    </tr>\n",
       "    <tr>\n",
       "      <td>16</td>\n",
       "      <td>기 장 군</td>\n",
       "      <td>5.0</td>\n",
       "      <td>69103.0</td>\n",
       "      <td>167178</td>\n",
       "      <td>83220</td>\n",
       "      <td>83958</td>\n",
       "      <td>4.817454</td>\n",
       "      <td>218.30</td>\n",
       "      <td>766.0</td>\n",
       "    </tr>\n",
       "  </tbody>\n",
       "</table>\n",
       "</div>"
      ],
      "text/plain": [
       "        구분  읍·면·동수        세대   인구(명)  남자(인구)  여자(인구)  시전체인구에대한구성비(%)   면적(㎢)  \\\n",
       "1   중    구     9.0   23153.0   44169   21959   22210        1.272788    2.83   \n",
       "2   서    구    13.0   52819.0  110576   54053   56523        3.186393   13.98   \n",
       "3   동    구    12.0   44473.0   90245   44350   45895        2.600529    9.74   \n",
       "4    영 도 구    11.0   54909.0  118962   58960   60002        3.428047   14.20   \n",
       "5     부산진구    20.0  166660.0  361542  175017  186525       10.418309   29.67   \n",
       "6    동 래 구    13.0  111867.0  272169  132577  139592        7.842908   16.63   \n",
       "7   남    구    17.0  117518.0  281507  138038  143469        8.111995   26.81   \n",
       "8   북    구    13.0  120061.0  293926  145587  148339        8.469865   39.37   \n",
       "9     해운대구    18.0  168454.0  411346  198530  212816       11.853477   51.47   \n",
       "10   사 하 구    16.0  138822.0  326902  163575  163327        9.420112   41.77   \n",
       "11   금 정 구    17.0  106984.0  244413  119219  125194        7.043083   65.28   \n",
       "12   강 서 구     8.0   53242.0  134211   71107   63104        3.867467  181.49   \n",
       "13   연 제 구    12.0   90131.0  210584  101767  108817        6.068255   12.10   \n",
       "14   수 영 구    10.0   81385.0  178071   84518   93553        5.131351   10.21   \n",
       "15   사 상 구    12.0   96780.0  224455  113607  110848        6.467967   36.09   \n",
       "16   기 장 군     5.0   69103.0  167178   83220   83958        4.817454  218.30   \n",
       "\n",
       "    인구밀도(명/㎢)  \n",
       "1     15607.0  \n",
       "2      7910.0  \n",
       "3      9265.0  \n",
       "4      8378.0  \n",
       "5     12185.0  \n",
       "6     16366.0  \n",
       "7     10500.0  \n",
       "8      7466.0  \n",
       "9      7992.0  \n",
       "10     7826.0  \n",
       "11     3744.0  \n",
       "12      739.0  \n",
       "13    17404.0  \n",
       "14    17441.0  \n",
       "15     6219.0  \n",
       "16      766.0  "
      ]
     },
     "execution_count": 124,
     "metadata": {},
     "output_type": "execute_result"
    }
   ],
   "source": [
    "busan_pop_land"
   ]
  },
  {
   "cell_type": "code",
   "execution_count": 125,
   "metadata": {},
   "outputs": [
    {
     "data": {
      "text/html": [
       "<div>\n",
       "<style scoped>\n",
       "    .dataframe tbody tr th:only-of-type {\n",
       "        vertical-align: middle;\n",
       "    }\n",
       "\n",
       "    .dataframe tbody tr th {\n",
       "        vertical-align: top;\n",
       "    }\n",
       "\n",
       "    .dataframe thead th {\n",
       "        text-align: right;\n",
       "    }\n",
       "</style>\n",
       "<table border=\"1\" class=\"dataframe\">\n",
       "  <thead>\n",
       "    <tr style=\"text-align: right;\">\n",
       "      <th></th>\n",
       "      <th>구분</th>\n",
       "      <th>읍·면·동수</th>\n",
       "      <th>세대</th>\n",
       "      <th>인구(명)</th>\n",
       "      <th>남자(인구)</th>\n",
       "      <th>여자(인구)</th>\n",
       "      <th>시전체인구에대한구성비(%)</th>\n",
       "      <th>면적(㎢)</th>\n",
       "      <th>인구밀도(명/㎢)</th>\n",
       "      <th>시군구명</th>\n",
       "      <th>2016</th>\n",
       "      <th>2017</th>\n",
       "      <th>2018</th>\n",
       "      <th>2019</th>\n",
       "    </tr>\n",
       "  </thead>\n",
       "  <tbody>\n",
       "    <tr>\n",
       "      <td>0</td>\n",
       "      <td>부산진구</td>\n",
       "      <td>20.0</td>\n",
       "      <td>166660.0</td>\n",
       "      <td>361542</td>\n",
       "      <td>175017</td>\n",
       "      <td>186525</td>\n",
       "      <td>10.418309</td>\n",
       "      <td>29.67</td>\n",
       "      <td>12185.0</td>\n",
       "      <td>부산진구</td>\n",
       "      <td>513</td>\n",
       "      <td>525</td>\n",
       "      <td>605</td>\n",
       "      <td>629</td>\n",
       "    </tr>\n",
       "    <tr>\n",
       "      <td>1</td>\n",
       "      <td>해운대구</td>\n",
       "      <td>18.0</td>\n",
       "      <td>168454.0</td>\n",
       "      <td>411346</td>\n",
       "      <td>198530</td>\n",
       "      <td>212816</td>\n",
       "      <td>11.853477</td>\n",
       "      <td>51.47</td>\n",
       "      <td>7992.0</td>\n",
       "      <td>해운대구</td>\n",
       "      <td>380</td>\n",
       "      <td>437</td>\n",
       "      <td>538</td>\n",
       "      <td>592</td>\n",
       "    </tr>\n",
       "  </tbody>\n",
       "</table>\n",
       "</div>"
      ],
      "text/plain": [
       "     구분  읍·면·동수        세대   인구(명)  남자(인구)  여자(인구)  시전체인구에대한구성비(%)  면적(㎢)  \\\n",
       "0  부산진구    20.0  166660.0  361542  175017  186525       10.418309  29.67   \n",
       "1  해운대구    18.0  168454.0  411346  198530  212816       11.853477  51.47   \n",
       "\n",
       "   인구밀도(명/㎢)  시군구명  2016  2017  2018  2019  \n",
       "0    12185.0  부산진구   513   525   605   629  \n",
       "1     7992.0  해운대구   380   437   538   592  "
      ]
     },
     "execution_count": 125,
     "metadata": {},
     "output_type": "execute_result"
    }
   ],
   "source": [
    "busan_cafe_density = busan_pop_land.merge(busan_cafe_year_gugunname, left_on = '구분', right_on = '시군구명')\n",
    "busan_cafe_density"
   ]
  },
  {
   "cell_type": "code",
   "execution_count": 126,
   "metadata": {},
   "outputs": [
    {
     "data": {
      "text/html": [
       "<div>\n",
       "<style scoped>\n",
       "    .dataframe tbody tr th:only-of-type {\n",
       "        vertical-align: middle;\n",
       "    }\n",
       "\n",
       "    .dataframe tbody tr th {\n",
       "        vertical-align: top;\n",
       "    }\n",
       "\n",
       "    .dataframe thead th {\n",
       "        text-align: right;\n",
       "    }\n",
       "</style>\n",
       "<table border=\"1\" class=\"dataframe\">\n",
       "  <thead>\n",
       "    <tr style=\"text-align: right;\">\n",
       "      <th></th>\n",
       "      <th>구분</th>\n",
       "      <th>인구(명)</th>\n",
       "      <th>시전체인구에대한구성비(%)</th>\n",
       "      <th>면적(㎢)</th>\n",
       "      <th>인구밀도(명/㎢)</th>\n",
       "      <th>2019</th>\n",
       "    </tr>\n",
       "  </thead>\n",
       "  <tbody>\n",
       "    <tr>\n",
       "      <td>0</td>\n",
       "      <td>부산진구</td>\n",
       "      <td>361542</td>\n",
       "      <td>10.418309</td>\n",
       "      <td>29.67</td>\n",
       "      <td>12185.0</td>\n",
       "      <td>629</td>\n",
       "    </tr>\n",
       "    <tr>\n",
       "      <td>1</td>\n",
       "      <td>해운대구</td>\n",
       "      <td>411346</td>\n",
       "      <td>11.853477</td>\n",
       "      <td>51.47</td>\n",
       "      <td>7992.0</td>\n",
       "      <td>592</td>\n",
       "    </tr>\n",
       "  </tbody>\n",
       "</table>\n",
       "</div>"
      ],
      "text/plain": [
       "     구분   인구(명)  시전체인구에대한구성비(%)  면적(㎢)  인구밀도(명/㎢)  2019\n",
       "0  부산진구  361542       10.418309  29.67    12185.0   629\n",
       "1  해운대구  411346       11.853477  51.47     7992.0   592"
      ]
     },
     "execution_count": 126,
     "metadata": {},
     "output_type": "execute_result"
    }
   ],
   "source": [
    "busan_cafe_density.drop(['읍·면·동수', '세대', '남자(인구)', '여자(인구)', '시군구명', '2016', '2017', '2018'], axis = 1, inplace = True)\n",
    "busan_cafe_density"
   ]
  },
  {
   "cell_type": "code",
   "execution_count": 127,
   "metadata": {},
   "outputs": [],
   "source": [
    "busan_cafe_density.rename( columns = {'2019' : '카페수'}, inplace = True)"
   ]
  },
  {
   "cell_type": "code",
   "execution_count": 128,
   "metadata": {},
   "outputs": [
    {
     "data": {
      "text/html": [
       "<div>\n",
       "<style scoped>\n",
       "    .dataframe tbody tr th:only-of-type {\n",
       "        vertical-align: middle;\n",
       "    }\n",
       "\n",
       "    .dataframe tbody tr th {\n",
       "        vertical-align: top;\n",
       "    }\n",
       "\n",
       "    .dataframe thead th {\n",
       "        text-align: right;\n",
       "    }\n",
       "</style>\n",
       "<table border=\"1\" class=\"dataframe\">\n",
       "  <thead>\n",
       "    <tr style=\"text-align: right;\">\n",
       "      <th></th>\n",
       "      <th>구분</th>\n",
       "      <th>인구(명)</th>\n",
       "      <th>시전체인구에대한구성비(%)</th>\n",
       "      <th>면적(㎢)</th>\n",
       "      <th>인구밀도(명/㎢)</th>\n",
       "      <th>카페수</th>\n",
       "    </tr>\n",
       "  </thead>\n",
       "  <tbody>\n",
       "    <tr>\n",
       "      <td>0</td>\n",
       "      <td>부산진구</td>\n",
       "      <td>361542</td>\n",
       "      <td>10.418309</td>\n",
       "      <td>29.67</td>\n",
       "      <td>12185.0</td>\n",
       "      <td>629</td>\n",
       "    </tr>\n",
       "    <tr>\n",
       "      <td>1</td>\n",
       "      <td>해운대구</td>\n",
       "      <td>411346</td>\n",
       "      <td>11.853477</td>\n",
       "      <td>51.47</td>\n",
       "      <td>7992.0</td>\n",
       "      <td>592</td>\n",
       "    </tr>\n",
       "  </tbody>\n",
       "</table>\n",
       "</div>"
      ],
      "text/plain": [
       "     구분   인구(명)  시전체인구에대한구성비(%)  면적(㎢)  인구밀도(명/㎢)  카페수\n",
       "0  부산진구  361542       10.418309  29.67    12185.0  629\n",
       "1  해운대구  411346       11.853477  51.47     7992.0  592"
      ]
     },
     "execution_count": 128,
     "metadata": {},
     "output_type": "execute_result"
    }
   ],
   "source": [
    "busan_cafe_density_2019 = busan_cafe_density\n",
    "busan_cafe_density_2019"
   ]
  },
  {
   "cell_type": "code",
   "execution_count": 129,
   "metadata": {},
   "outputs": [],
   "source": [
    "busan_cafe_density_2019['시전체카페에대한구성비(%)'] = busan_cafe_density_2019['카페수'] / busan_cafe_density_2019['카페수'].sum() * 100"
   ]
  },
  {
   "cell_type": "code",
   "execution_count": 130,
   "metadata": {},
   "outputs": [
    {
     "data": {
      "text/html": [
       "<div>\n",
       "<style scoped>\n",
       "    .dataframe tbody tr th:only-of-type {\n",
       "        vertical-align: middle;\n",
       "    }\n",
       "\n",
       "    .dataframe tbody tr th {\n",
       "        vertical-align: top;\n",
       "    }\n",
       "\n",
       "    .dataframe thead th {\n",
       "        text-align: right;\n",
       "    }\n",
       "</style>\n",
       "<table border=\"1\" class=\"dataframe\">\n",
       "  <thead>\n",
       "    <tr style=\"text-align: right;\">\n",
       "      <th></th>\n",
       "      <th>구분</th>\n",
       "      <th>인구(명)</th>\n",
       "      <th>시전체인구에대한구성비(%)</th>\n",
       "      <th>면적(㎢)</th>\n",
       "      <th>인구밀도(명/㎢)</th>\n",
       "      <th>카페수</th>\n",
       "      <th>시전체카페에대한구성비(%)</th>\n",
       "    </tr>\n",
       "  </thead>\n",
       "  <tbody>\n",
       "    <tr>\n",
       "      <td>0</td>\n",
       "      <td>부산진구</td>\n",
       "      <td>361542</td>\n",
       "      <td>10.418309</td>\n",
       "      <td>29.67</td>\n",
       "      <td>12185.0</td>\n",
       "      <td>629</td>\n",
       "      <td>51.515152</td>\n",
       "    </tr>\n",
       "    <tr>\n",
       "      <td>1</td>\n",
       "      <td>해운대구</td>\n",
       "      <td>411346</td>\n",
       "      <td>11.853477</td>\n",
       "      <td>51.47</td>\n",
       "      <td>7992.0</td>\n",
       "      <td>592</td>\n",
       "      <td>48.484848</td>\n",
       "    </tr>\n",
       "  </tbody>\n",
       "</table>\n",
       "</div>"
      ],
      "text/plain": [
       "     구분   인구(명)  시전체인구에대한구성비(%)  면적(㎢)  인구밀도(명/㎢)  카페수  시전체카페에대한구성비(%)\n",
       "0  부산진구  361542       10.418309  29.67    12185.0  629       51.515152\n",
       "1  해운대구  411346       11.853477  51.47     7992.0  592       48.484848"
      ]
     },
     "execution_count": 130,
     "metadata": {},
     "output_type": "execute_result"
    }
   ],
   "source": [
    "busan_cafe_density_2019"
   ]
  },
  {
   "cell_type": "code",
   "execution_count": 131,
   "metadata": {},
   "outputs": [],
   "source": [
    "busan_cafe_density_2019['면적당카페수(ea/㎢)'] = busan_cafe_density_2019['카페수'] / busan_cafe_density_2019['면적(㎢)']\n",
    "busan_cafe_density_2019['인구당카페수(ea/명)'] = busan_cafe_density_2019['카페수'] / busan_cafe_density_2019['인구(명)']\n",
    "busan_cafe_density_2019['카페당관할인구수(명/ea)'] = busan_cafe_density_2019['인구(명)'] / busan_cafe_density_2019['카페수']"
   ]
  },
  {
   "cell_type": "code",
   "execution_count": 132,
   "metadata": {},
   "outputs": [
    {
     "data": {
      "text/html": [
       "<div>\n",
       "<style scoped>\n",
       "    .dataframe tbody tr th:only-of-type {\n",
       "        vertical-align: middle;\n",
       "    }\n",
       "\n",
       "    .dataframe tbody tr th {\n",
       "        vertical-align: top;\n",
       "    }\n",
       "\n",
       "    .dataframe thead th {\n",
       "        text-align: right;\n",
       "    }\n",
       "</style>\n",
       "<table border=\"1\" class=\"dataframe\">\n",
       "  <thead>\n",
       "    <tr style=\"text-align: right;\">\n",
       "      <th></th>\n",
       "      <th>구분</th>\n",
       "      <th>인구(명)</th>\n",
       "      <th>시전체인구에대한구성비(%)</th>\n",
       "      <th>면적(㎢)</th>\n",
       "      <th>인구밀도(명/㎢)</th>\n",
       "      <th>카페수</th>\n",
       "      <th>시전체카페에대한구성비(%)</th>\n",
       "      <th>면적당카페수(ea/㎢)</th>\n",
       "      <th>인구당카페수(ea/명)</th>\n",
       "      <th>카페당관할인구수(명/ea)</th>\n",
       "    </tr>\n",
       "  </thead>\n",
       "  <tbody>\n",
       "    <tr>\n",
       "      <td>0</td>\n",
       "      <td>부산진구</td>\n",
       "      <td>361542</td>\n",
       "      <td>10.418309</td>\n",
       "      <td>29.67</td>\n",
       "      <td>12185.0</td>\n",
       "      <td>629</td>\n",
       "      <td>51.515152</td>\n",
       "      <td>21.199865</td>\n",
       "      <td>0.001740</td>\n",
       "      <td>574.788553</td>\n",
       "    </tr>\n",
       "    <tr>\n",
       "      <td>1</td>\n",
       "      <td>해운대구</td>\n",
       "      <td>411346</td>\n",
       "      <td>11.853477</td>\n",
       "      <td>51.47</td>\n",
       "      <td>7992.0</td>\n",
       "      <td>592</td>\n",
       "      <td>48.484848</td>\n",
       "      <td>11.501846</td>\n",
       "      <td>0.001439</td>\n",
       "      <td>694.841216</td>\n",
       "    </tr>\n",
       "  </tbody>\n",
       "</table>\n",
       "</div>"
      ],
      "text/plain": [
       "     구분   인구(명)  시전체인구에대한구성비(%)  면적(㎢)  인구밀도(명/㎢)  카페수  시전체카페에대한구성비(%)  \\\n",
       "0  부산진구  361542       10.418309  29.67    12185.0  629       51.515152   \n",
       "1  해운대구  411346       11.853477  51.47     7992.0  592       48.484848   \n",
       "\n",
       "   면적당카페수(ea/㎢)  인구당카페수(ea/명)  카페당관할인구수(명/ea)  \n",
       "0     21.199865      0.001740      574.788553  \n",
       "1     11.501846      0.001439      694.841216  "
      ]
     },
     "execution_count": 132,
     "metadata": {},
     "output_type": "execute_result"
    }
   ],
   "source": [
    "busan_cafe_density_2019"
   ]
  },
  {
   "cell_type": "code",
   "execution_count": 134,
   "metadata": {},
   "outputs": [],
   "source": [
    "busan_cafe_density_2019.to_csv('./data/Cleansed_data/busan_cafe_density_2019.csv', encoding = 'utf-8', index = False)"
   ]
  },
  {
   "cell_type": "code",
   "execution_count": 136,
   "metadata": {},
   "outputs": [],
   "source": [
    "busan_cafe_density_2019_corr = busan_cafe_density_2019[['시전체인구에대한구성비(%)', '인구밀도(명/㎢)', '시전체카페에대한구성비(%)', '면적당카페수(ea/㎢)', '인구당카페수(ea/명)', '카페당관할인구수(명/ea)' ]]"
   ]
  },
  {
   "cell_type": "code",
   "execution_count": 138,
   "metadata": {},
   "outputs": [
    {
     "data": {
      "text/html": [
       "<div>\n",
       "<style scoped>\n",
       "    .dataframe tbody tr th:only-of-type {\n",
       "        vertical-align: middle;\n",
       "    }\n",
       "\n",
       "    .dataframe tbody tr th {\n",
       "        vertical-align: top;\n",
       "    }\n",
       "\n",
       "    .dataframe thead th {\n",
       "        text-align: right;\n",
       "    }\n",
       "</style>\n",
       "<table border=\"1\" class=\"dataframe\">\n",
       "  <thead>\n",
       "    <tr style=\"text-align: right;\">\n",
       "      <th></th>\n",
       "      <th>시전체인구에대한구성비(%)</th>\n",
       "      <th>인구밀도(명/㎢)</th>\n",
       "      <th>시전체카페에대한구성비(%)</th>\n",
       "      <th>면적당카페수(ea/㎢)</th>\n",
       "      <th>인구당카페수(ea/명)</th>\n",
       "      <th>카페당관할인구수(명/ea)</th>\n",
       "    </tr>\n",
       "  </thead>\n",
       "  <tbody>\n",
       "    <tr>\n",
       "      <td>시전체인구에대한구성비(%)</td>\n",
       "      <td>1.0</td>\n",
       "      <td>-1.0</td>\n",
       "      <td>-1.0</td>\n",
       "      <td>-1.0</td>\n",
       "      <td>-1.0</td>\n",
       "      <td>1.0</td>\n",
       "    </tr>\n",
       "    <tr>\n",
       "      <td>인구밀도(명/㎢)</td>\n",
       "      <td>-1.0</td>\n",
       "      <td>1.0</td>\n",
       "      <td>1.0</td>\n",
       "      <td>1.0</td>\n",
       "      <td>1.0</td>\n",
       "      <td>-1.0</td>\n",
       "    </tr>\n",
       "    <tr>\n",
       "      <td>시전체카페에대한구성비(%)</td>\n",
       "      <td>-1.0</td>\n",
       "      <td>1.0</td>\n",
       "      <td>1.0</td>\n",
       "      <td>1.0</td>\n",
       "      <td>1.0</td>\n",
       "      <td>-1.0</td>\n",
       "    </tr>\n",
       "    <tr>\n",
       "      <td>면적당카페수(ea/㎢)</td>\n",
       "      <td>-1.0</td>\n",
       "      <td>1.0</td>\n",
       "      <td>1.0</td>\n",
       "      <td>1.0</td>\n",
       "      <td>1.0</td>\n",
       "      <td>-1.0</td>\n",
       "    </tr>\n",
       "    <tr>\n",
       "      <td>인구당카페수(ea/명)</td>\n",
       "      <td>-1.0</td>\n",
       "      <td>1.0</td>\n",
       "      <td>1.0</td>\n",
       "      <td>1.0</td>\n",
       "      <td>1.0</td>\n",
       "      <td>-1.0</td>\n",
       "    </tr>\n",
       "    <tr>\n",
       "      <td>카페당관할인구수(명/ea)</td>\n",
       "      <td>1.0</td>\n",
       "      <td>-1.0</td>\n",
       "      <td>-1.0</td>\n",
       "      <td>-1.0</td>\n",
       "      <td>-1.0</td>\n",
       "      <td>1.0</td>\n",
       "    </tr>\n",
       "  </tbody>\n",
       "</table>\n",
       "</div>"
      ],
      "text/plain": [
       "                시전체인구에대한구성비(%)  인구밀도(명/㎢)  시전체카페에대한구성비(%)  면적당카페수(ea/㎢)  \\\n",
       "시전체인구에대한구성비(%)             1.0       -1.0            -1.0          -1.0   \n",
       "인구밀도(명/㎢)                 -1.0        1.0             1.0           1.0   \n",
       "시전체카페에대한구성비(%)            -1.0        1.0             1.0           1.0   \n",
       "면적당카페수(ea/㎢)              -1.0        1.0             1.0           1.0   \n",
       "인구당카페수(ea/명)              -1.0        1.0             1.0           1.0   \n",
       "카페당관할인구수(명/ea)             1.0       -1.0            -1.0          -1.0   \n",
       "\n",
       "                인구당카페수(ea/명)  카페당관할인구수(명/ea)  \n",
       "시전체인구에대한구성비(%)          -1.0             1.0  \n",
       "인구밀도(명/㎢)                1.0            -1.0  \n",
       "시전체카페에대한구성비(%)           1.0            -1.0  \n",
       "면적당카페수(ea/㎢)             1.0            -1.0  \n",
       "인구당카페수(ea/명)             1.0            -1.0  \n",
       "카페당관할인구수(명/ea)          -1.0             1.0  "
      ]
     },
     "execution_count": 138,
     "metadata": {},
     "output_type": "execute_result"
    }
   ],
   "source": [
    "busan_cafe_density_2019_corr\n",
    "busan_cafe_density_2019_corr.corr()"
   ]
  },
  {
   "cell_type": "code",
   "execution_count": null,
   "metadata": {},
   "outputs": [],
   "source": []
  },
  {
   "cell_type": "code",
   "execution_count": null,
   "metadata": {},
   "outputs": [],
   "source": []
  },
  {
   "cell_type": "code",
   "execution_count": null,
   "metadata": {},
   "outputs": [],
   "source": []
  },
  {
   "cell_type": "code",
   "execution_count": null,
   "metadata": {},
   "outputs": [],
   "source": []
  },
  {
   "cell_type": "code",
   "execution_count": null,
   "metadata": {},
   "outputs": [],
   "source": []
  },
  {
   "cell_type": "code",
   "execution_count": null,
   "metadata": {},
   "outputs": [],
   "source": []
  },
  {
   "cell_type": "code",
   "execution_count": null,
   "metadata": {},
   "outputs": [],
   "source": []
  },
  {
   "cell_type": "code",
   "execution_count": null,
   "metadata": {},
   "outputs": [],
   "source": []
  },
  {
   "cell_type": "code",
   "execution_count": null,
   "metadata": {},
   "outputs": [],
   "source": []
  },
  {
   "cell_type": "code",
   "execution_count": null,
   "metadata": {},
   "outputs": [],
   "source": []
  },
  {
   "cell_type": "code",
   "execution_count": null,
   "metadata": {},
   "outputs": [],
   "source": []
  },
  {
   "cell_type": "markdown",
   "metadata": {},
   "source": []
  },
  {
   "cell_type": "code",
   "execution_count": null,
   "metadata": {},
   "outputs": [],
   "source": []
  }
 ],
 "metadata": {
  "kernelspec": {
   "display_name": "Python 3",
   "language": "python",
   "name": "python3"
  },
  "language_info": {
   "codemirror_mode": {
    "name": "ipython",
    "version": 3
   },
   "file_extension": ".py",
   "mimetype": "text/x-python",
   "name": "python",
   "nbconvert_exporter": "python",
   "pygments_lexer": "ipython3",
   "version": "3.7.4"
  }
 },
 "nbformat": 4,
 "nbformat_minor": 4
}
